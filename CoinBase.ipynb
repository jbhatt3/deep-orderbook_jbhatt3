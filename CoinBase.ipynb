{
 "nbformat": 4,
 "nbformat_minor": 0,
 "metadata": {
  "colab": {
   "name": "CoinBase.ipynb",
   "provenance": [],
   "collapsed_sections": [],
   "machine_shape": "hm",
   "include_colab_link": true
  },
  "kernelspec": {
   "name": "python3",
   "language": "python",
   "display_name": "Python 3 (ipykernel)"
  },
  "accelerator": "TPU"
 },
 "cells": [
  {
   "cell_type": "markdown",
   "metadata": {
    "id": "view-in-github",
    "colab_type": "text"
   },
   "source": [
    "<a href=\"https://colab.research.google.com/github/rkj26/deep-orderbook/blob/rakshit_jha/CoinBase.ipynb\" target=\"_parent\"><img src=\"https://colab.research.google.com/assets/colab-badge.svg\" alt=\"Open In Colab\"/></a>"
   ]
  },
  {
   "cell_type": "code",
   "metadata": {
    "id": "sh_SnT3l9HZz",
    "colab_type": "code",
    "colab": {},
    "ExecuteTime": {
     "end_time": "2025-03-04T04:26:39.766897Z",
     "start_time": "2025-03-04T04:26:39.765198Z"
    }
   },
   "source": [
    "# %%capture\n",
    "# !wget -O dataset.7z https://www.dropbox.com/sh/w3qagq2ze9noxon/AACE6f4nkBAJaJEc7Nbf2nhla/coinbase_btc_usd.7z?dl=0"
   ],
   "execution_count": 1,
   "outputs": []
  },
  {
   "cell_type": "code",
   "metadata": {
    "id": "hYTd7ONy-IO9",
    "colab_type": "code",
    "colab": {},
    "ExecuteTime": {
     "end_time": "2025-03-04T04:26:39.769244Z",
     "start_time": "2025-03-04T04:26:39.767512Z"
    }
   },
   "source": [
    "# # %%capture\n",
    "# !pip install pyunpack\n",
    "# !pip install patool"
   ],
   "execution_count": 2,
   "outputs": []
  },
  {
   "cell_type": "code",
   "metadata": {
    "id": "N4mqvERn9yr5",
    "colab_type": "code",
    "colab": {},
    "ExecuteTime": {
     "end_time": "2025-03-04T04:26:39.773029Z",
     "start_time": "2025-03-04T04:26:39.771134Z"
    }
   },
   "source": [
    "# from pyunpack import Archive"
   ],
   "execution_count": 3,
   "outputs": []
  },
  {
   "cell_type": "code",
   "metadata": {
    "id": "fmfVVJx0-GMx",
    "colab_type": "code",
    "colab": {},
    "ExecuteTime": {
     "end_time": "2025-03-04T04:26:39.775689Z",
     "start_time": "2025-03-04T04:26:39.774057Z"
    }
   },
   "source": [
    "# Archive('/content/dataset.7z').extractall(\"/content\")"
   ],
   "execution_count": 4,
   "outputs": []
  },
  {
   "cell_type": "code",
   "metadata": {
    "id": "rc5Q7S_b-c0p",
    "colab_type": "code",
    "colab": {},
    "ExecuteTime": {
     "end_time": "2025-03-04T04:26:39.912588Z",
     "start_time": "2025-03-04T04:26:39.776356Z"
    }
   },
   "source": [
    "import os\n",
    "import pandas as pd\n",
    "import numpy as np\n",
    "%matplotlib inline\n",
    "import matplotlib.pyplot as plt\n",
    "import seaborn as sns\n",
    "import gc\n",
    "from tqdm import tqdm\n",
    "from sklearn.preprocessing import StandardScaler\n",
    "from sklearn.metrics import classification_report"
   ],
   "execution_count": 5,
   "outputs": []
  },
  {
   "cell_type": "code",
   "metadata": {
    "id": "33uRritzLow_",
    "colab_type": "code",
    "colab": {},
    "ExecuteTime": {
     "end_time": "2025-03-04T04:26:39.915245Z",
     "start_time": "2025-03-04T04:26:39.913213Z"
    }
   },
   "source": [
    "path_ = 'content/coinbase_btc_usd/coinbase/btc_usd/l2_snapshots/100ms/'"
   ],
   "execution_count": 6,
   "outputs": []
  },
  {
   "cell_type": "code",
   "metadata": {
    "id": "Io0T4wiBJ5xz",
    "colab_type": "code",
    "colab": {},
    "ExecuteTime": {
     "end_time": "2025-03-04T04:26:40.000893Z",
     "start_time": "2025-03-04T04:26:39.915841Z"
    }
   },
   "source": [
    "# l2_snapshot = pd.read_parquet('/content/coinbase_btc_usd/coinbase/btc_usd/l2_snapshots/100ms/coinbase_btc_usd_l2_book_snapshots_depth50_2019_11_12_0000_0100.parquet')\n",
    "\n",
    "l2_snapshot = pd.read_parquet('content/coinbase_btc_usd/coinbase/btc_usd/l2_snapshots/100ms/coinbase_btc_usd_l2_book_snapshots_depth50_2019_11_12_0000_0100.parquet')"
   ],
   "execution_count": 7,
   "outputs": []
  },
  {
   "cell_type": "code",
   "metadata": {
    "id": "w3x4QWVDeo3-",
    "colab_type": "code",
    "outputId": "4a45778a-d708-4a47-f4e9-18911cb2818f",
    "colab": {
     "base_uri": "https://localhost:8080/",
     "height": 369
    },
    "ExecuteTime": {
     "end_time": "2025-03-04T04:26:40.013196Z",
     "start_time": "2025-03-04T04:26:40.001583Z"
    }
   },
   "source": [
    "l2_snapshot.head()"
   ],
   "execution_count": 8,
   "outputs": [
    {
     "data": {
      "text/plain": "                              b1       b2       b3       b4      b5       b6  \\\ntimestamp                                                                      \n2019-11-12 00:00:00.000  8721.53  8720.59  8719.55  8719.50  8719.0  8718.02   \n2019-11-12 00:00:00.100  8721.53  8720.59  8719.56  8719.55  8719.0  8718.02   \n2019-11-12 00:00:00.200  8721.53  8720.59  8719.61  8719.56  8719.0  8718.02   \n2019-11-12 00:00:00.300  8721.53  8720.59  8719.61  8719.56  8719.0  8718.02   \n2019-11-12 00:00:00.400  8721.53  8720.59  8719.61  8719.56  8719.0  8718.99   \n\n                              b7       b8       b9      b10  ...      aq41  \\\ntimestamp                                                    ...             \n2019-11-12 00:00:00.000  8717.87  8717.85  8717.56  8716.06  ...  8.200000   \n2019-11-12 00:00:00.100  8717.87  8717.85  8717.56  8716.06  ...  8.200000   \n2019-11-12 00:00:00.200  8717.87  8717.85  8716.06  8716.00  ...  0.009135   \n2019-11-12 00:00:00.300  8718.00  8717.87  8717.85  8716.60  ...  0.009135   \n2019-11-12 00:00:00.400  8718.02  8718.00  8717.87  8717.85  ...  0.009135   \n\n                          aq42   aq43   aq44   aq45      aq46      aq47  \\\ntimestamp                                                                 \n2019-11-12 00:00:00.000  2.203  2.600  0.005  2.500  0.896321  0.766000   \n2019-11-12 00:00:00.100  2.203  2.600  0.005  2.500  0.896321  0.766000   \n2019-11-12 00:00:00.200  8.200  2.203  2.600  0.005  2.500000  0.896321   \n2019-11-12 00:00:00.300  8.200  2.203  2.600  0.005  2.500000  0.896321   \n2019-11-12 00:00:00.400  8.200  2.203  2.600  0.005  2.500000  0.896321   \n\n                             aq48      aq49      aq50  \ntimestamp                                              \n2019-11-12 00:00:00.000  0.001737  1.820000  0.933419  \n2019-11-12 00:00:00.100  0.001737  1.820000  0.933419  \n2019-11-12 00:00:00.200  0.766000  0.001737  1.820000  \n2019-11-12 00:00:00.300  0.766000  0.001737  1.820000  \n2019-11-12 00:00:00.400  0.766000  0.001737  1.820000  \n\n[5 rows x 200 columns]",
      "text/html": "<div>\n<style scoped>\n    .dataframe tbody tr th:only-of-type {\n        vertical-align: middle;\n    }\n\n    .dataframe tbody tr th {\n        vertical-align: top;\n    }\n\n    .dataframe thead th {\n        text-align: right;\n    }\n</style>\n<table border=\"1\" class=\"dataframe\">\n  <thead>\n    <tr style=\"text-align: right;\">\n      <th></th>\n      <th>b1</th>\n      <th>b2</th>\n      <th>b3</th>\n      <th>b4</th>\n      <th>b5</th>\n      <th>b6</th>\n      <th>b7</th>\n      <th>b8</th>\n      <th>b9</th>\n      <th>b10</th>\n      <th>...</th>\n      <th>aq41</th>\n      <th>aq42</th>\n      <th>aq43</th>\n      <th>aq44</th>\n      <th>aq45</th>\n      <th>aq46</th>\n      <th>aq47</th>\n      <th>aq48</th>\n      <th>aq49</th>\n      <th>aq50</th>\n    </tr>\n    <tr>\n      <th>timestamp</th>\n      <th></th>\n      <th></th>\n      <th></th>\n      <th></th>\n      <th></th>\n      <th></th>\n      <th></th>\n      <th></th>\n      <th></th>\n      <th></th>\n      <th></th>\n      <th></th>\n      <th></th>\n      <th></th>\n      <th></th>\n      <th></th>\n      <th></th>\n      <th></th>\n      <th></th>\n      <th></th>\n      <th></th>\n    </tr>\n  </thead>\n  <tbody>\n    <tr>\n      <th>2019-11-12 00:00:00.000</th>\n      <td>8721.53</td>\n      <td>8720.59</td>\n      <td>8719.55</td>\n      <td>8719.50</td>\n      <td>8719.0</td>\n      <td>8718.02</td>\n      <td>8717.87</td>\n      <td>8717.85</td>\n      <td>8717.56</td>\n      <td>8716.06</td>\n      <td>...</td>\n      <td>8.200000</td>\n      <td>2.203</td>\n      <td>2.600</td>\n      <td>0.005</td>\n      <td>2.500</td>\n      <td>0.896321</td>\n      <td>0.766000</td>\n      <td>0.001737</td>\n      <td>1.820000</td>\n      <td>0.933419</td>\n    </tr>\n    <tr>\n      <th>2019-11-12 00:00:00.100</th>\n      <td>8721.53</td>\n      <td>8720.59</td>\n      <td>8719.56</td>\n      <td>8719.55</td>\n      <td>8719.0</td>\n      <td>8718.02</td>\n      <td>8717.87</td>\n      <td>8717.85</td>\n      <td>8717.56</td>\n      <td>8716.06</td>\n      <td>...</td>\n      <td>8.200000</td>\n      <td>2.203</td>\n      <td>2.600</td>\n      <td>0.005</td>\n      <td>2.500</td>\n      <td>0.896321</td>\n      <td>0.766000</td>\n      <td>0.001737</td>\n      <td>1.820000</td>\n      <td>0.933419</td>\n    </tr>\n    <tr>\n      <th>2019-11-12 00:00:00.200</th>\n      <td>8721.53</td>\n      <td>8720.59</td>\n      <td>8719.61</td>\n      <td>8719.56</td>\n      <td>8719.0</td>\n      <td>8718.02</td>\n      <td>8717.87</td>\n      <td>8717.85</td>\n      <td>8716.06</td>\n      <td>8716.00</td>\n      <td>...</td>\n      <td>0.009135</td>\n      <td>8.200</td>\n      <td>2.203</td>\n      <td>2.600</td>\n      <td>0.005</td>\n      <td>2.500000</td>\n      <td>0.896321</td>\n      <td>0.766000</td>\n      <td>0.001737</td>\n      <td>1.820000</td>\n    </tr>\n    <tr>\n      <th>2019-11-12 00:00:00.300</th>\n      <td>8721.53</td>\n      <td>8720.59</td>\n      <td>8719.61</td>\n      <td>8719.56</td>\n      <td>8719.0</td>\n      <td>8718.02</td>\n      <td>8718.00</td>\n      <td>8717.87</td>\n      <td>8717.85</td>\n      <td>8716.60</td>\n      <td>...</td>\n      <td>0.009135</td>\n      <td>8.200</td>\n      <td>2.203</td>\n      <td>2.600</td>\n      <td>0.005</td>\n      <td>2.500000</td>\n      <td>0.896321</td>\n      <td>0.766000</td>\n      <td>0.001737</td>\n      <td>1.820000</td>\n    </tr>\n    <tr>\n      <th>2019-11-12 00:00:00.400</th>\n      <td>8721.53</td>\n      <td>8720.59</td>\n      <td>8719.61</td>\n      <td>8719.56</td>\n      <td>8719.0</td>\n      <td>8718.99</td>\n      <td>8718.02</td>\n      <td>8718.00</td>\n      <td>8717.87</td>\n      <td>8717.85</td>\n      <td>...</td>\n      <td>0.009135</td>\n      <td>8.200</td>\n      <td>2.203</td>\n      <td>2.600</td>\n      <td>0.005</td>\n      <td>2.500000</td>\n      <td>0.896321</td>\n      <td>0.766000</td>\n      <td>0.001737</td>\n      <td>1.820000</td>\n    </tr>\n  </tbody>\n</table>\n<p>5 rows × 200 columns</p>\n</div>"
     },
     "execution_count": 8,
     "metadata": {},
     "output_type": "execute_result"
    }
   ]
  },
  {
   "cell_type": "code",
   "metadata": {
    "id": "6t9oJl3QNn0E",
    "colab_type": "code",
    "outputId": "c272a18e-3f90-463e-ab0f-ed8462b79ed2",
    "colab": {
     "base_uri": "https://localhost:8080/",
     "height": 221
    },
    "ExecuteTime": {
     "end_time": "2025-03-04T04:26:40.021480Z",
     "start_time": "2025-03-04T04:26:40.013823Z"
    }
   },
   "source": [
    "l2_snapshot.isnull().sum()"
   ],
   "execution_count": 9,
   "outputs": [
    {
     "data": {
      "text/plain": "b1      7452\nb2      7452\nb3      7452\nb4      7452\nb5      7452\n        ... \naq46    7452\naq47    7452\naq48    7452\naq49    7452\naq50    7452\nLength: 200, dtype: int64"
     },
     "execution_count": 9,
     "metadata": {},
     "output_type": "execute_result"
    }
   ]
  },
  {
   "cell_type": "code",
   "metadata": {
    "id": "4ED9NkndJkCK",
    "colab_type": "code",
    "outputId": "d3fda4ce-a3d0-4be1-b543-7c2d9bd20923",
    "colab": {
     "base_uri": "https://localhost:8080/",
     "height": 34
    },
    "ExecuteTime": {
     "end_time": "2025-03-04T04:26:41.732018Z",
     "start_time": "2025-03-04T04:26:40.022447Z"
    }
   },
   "source": [
    "i = 0\n",
    "for x in os.listdir(path_):\n",
    "  #Remove the if part to load the full dataset\n",
    "  if i > 10:\n",
    "    break\n",
    "  else:\n",
    "    if i == 0:\n",
    "      l2_snapshot = pd.read_parquet('content/coinbase_btc_usd/coinbase/btc_usd/l2_snapshots/100ms/coinbase_btc_usd_l2_book_snapshots_depth50_2019_11_12_0000_0100.parquet')\n",
    "    else:\n",
    "      temp = pd.read_parquet(path_+x)\n",
    "      l2_snapshot_ = l2_snapshot.copy()\n",
    "      l2_snapshot = pd.concat([l2_snapshot_, temp])\n",
    "      del temp\n",
    "      del l2_snapshot_\n",
    "      gc.collect()\n",
    "    i = i+1\n",
    "print('Memory Usage: {} MB'.format(l2_snapshot.memory_usage().sum()/(1024**2)))"
   ],
   "execution_count": 10,
   "outputs": [
    {
     "name": "stdout",
     "output_type": "stream",
     "text": [
      "Memory Usage: 607.2156143188477 MB\n"
     ]
    }
   ]
  },
  {
   "cell_type": "code",
   "metadata": {
    "id": "5rzKlDvrzjyK",
    "colab_type": "code",
    "outputId": "2b62b7d3-31b1-48f8-82ae-ae16b146b241",
    "colab": {
     "base_uri": "https://localhost:8080/",
     "height": 51
    },
    "ExecuteTime": {
     "end_time": "2025-03-04T04:26:41.874750Z",
     "start_time": "2025-03-04T04:26:41.732730Z"
    }
   },
   "source": [
    "print('Before dropping null values: {}'.format(l2_snapshot.shape))\n",
    "l2_snapshot.dropna(inplace=True)\n",
    "print('After dropping null values: {}'.format(l2_snapshot.shape))"
   ],
   "execution_count": 11,
   "outputs": [
    {
     "name": "stdout",
     "output_type": "stream",
     "text": [
      "Before dropping null values: (395965, 200)\n",
      "After dropping null values: (253197, 200)\n"
     ]
    }
   ]
  },
  {
   "cell_type": "code",
   "metadata": {
    "id": "KdEO-8eBHM4z",
    "colab_type": "code",
    "colab": {},
    "ExecuteTime": {
     "end_time": "2025-03-04T04:26:41.881756Z",
     "start_time": "2025-03-04T04:26:41.878318Z"
    }
   },
   "source": [
    "# Function to generate the labels for learning according to the paper\n",
    "def generate_features_labels(df,ask, bid,k=20, alpha = 10e-5):\n",
    "  df_ = df.copy()\n",
    "  df_['mid_price'] = (df_[ask]+df_[bid])/2\n",
    "  df_['target'] = 1\n",
    "  index = df_.columns.get_loc('mid_price')\n",
    "  target_index = df_.columns.get_loc('target')\n",
    "  shape = df_.shape[0]\n",
    "  for i in tqdm(range(k,shape-k)):\n",
    "    m_b = np.mean(df_.iloc[(i-k):i, index].values)\n",
    "    m_a = np.mean(df_.iloc[i+1:(i+k+1), index].values)\n",
    "\n",
    "    if (m_b > m_a*(1+alpha)):\n",
    "      df_.iloc[i,target_index] = 2\n",
    "    if (m_b < m_a*(1-alpha)):\n",
    "      df_.iloc[i,target_index] = 0\n",
    "\n",
    "  y = df_.iloc[k:shape-k, target_index].values\n",
    "  X = df.iloc[k:shape-k,:].values\n",
    "  #Free up memory by deleting not required dataframes.\n",
    "  del df_\n",
    "  del df\n",
    "  gc.collect()\n",
    "  return X,y"
   ],
   "execution_count": 12,
   "outputs": []
  },
  {
   "cell_type": "code",
   "metadata": {
    "id": "fDbvInqagtRk",
    "colab_type": "code",
    "outputId": "1a02effd-40a8-4c3c-d417-b68f4d31fa15",
    "colab": {
     "base_uri": "https://localhost:8080/",
     "height": 34
    },
    "ExecuteTime": {
     "end_time": "2025-03-04T04:26:57.528348Z",
     "start_time": "2025-03-04T04:26:41.882547Z"
    }
   },
   "source": [
    "X,y = generate_features_labels(l2_snapshot, ask='a1', bid = 'b1')"
   ],
   "execution_count": 13,
   "outputs": [
    {
     "name": "stderr",
     "output_type": "stream",
     "text": [
      "100%|██████████| 253157/253157 [00:15<00:00, 16304.12it/s]\n"
     ]
    }
   ]
  },
  {
   "cell_type": "code",
   "metadata": {
    "id": "Uy_ivAgHDAqm",
    "colab_type": "code",
    "colab": {},
    "ExecuteTime": {
     "end_time": "2025-03-04T04:26:57.530874Z",
     "start_time": "2025-03-04T04:26:57.529087Z"
    }
   },
   "source": [
    "#Dimensions for the time series\n",
    "T = 100\n",
    "D = 200\n",
    "N = len(X) - T"
   ],
   "execution_count": 14,
   "outputs": []
  },
  {
   "cell_type": "code",
   "metadata": {
    "id": "Kx7z59QgDRgL",
    "colab_type": "code",
    "colab": {},
    "ExecuteTime": {
     "end_time": "2025-03-04T04:26:57.716836Z",
     "start_time": "2025-03-04T04:26:57.531547Z"
    }
   },
   "source": [
    "trainPart = int(len(X)*0.7)  #(70% Data for training and 30% for testing)\n",
    "\n",
    "#Normalising the whole dataset\n",
    "\n",
    "scaler = StandardScaler()\n",
    "scaler.fit(X[:trainPart + T - 1])\n",
    "X = scaler.transform(X)"
   ],
   "execution_count": 15,
   "outputs": []
  },
  {
   "cell_type": "code",
   "metadata": {
    "colab_type": "code",
    "id": "7D-o4gGFq5lD",
    "outputId": "c6097109-20be-4faf-8344-d2fdeb4acc1f",
    "colab": {
     "base_uri": "https://localhost:8080/",
     "height": 85
    },
    "ExecuteTime": {
     "end_time": "2025-03-04T04:29:21.147493Z",
     "start_time": "2025-03-04T04:26:57.717610Z"
    }
   },
   "source": [
    "#Create the template structure of training set\n",
    "X_train = np.zeros((trainPart, T, D))\n",
    "y_train = np.zeros(trainPart)\n",
    "\n",
    "#Preparing the time series data using timestep of 100 and no of features = 200\n",
    "for t in range(trainPart):\n",
    "  X_train[t, :, :] = X[t:t+T]\n",
    "  y_train[t] = y[t+T] \n",
    "\n",
    "# Reducing X_train datasize memory usage\n",
    "print('X_train - Before: {} GB'.format(X_train.nbytes/1024**3))\n",
    "X_train = X_train.astype('float16')\n",
    "print('X_train - After: {} GB'.format(X_train.nbytes/1024**3))\n",
    "\n",
    "# Reducing Y_train datasize memory usage\n",
    "print('y_train - before: {} MB'.format(y_train.nbytes/1024**2))\n",
    "y_train = y_train.astype('int')\n",
    "print('y_train - After: {} MB'.format(y_train.nbytes/1024**2))"
   ],
   "execution_count": 16,
   "outputs": [
    {
     "name": "stdout",
     "output_type": "stream",
     "text": [
      "X_train - Before: 26.406198740005493 GB\n",
      "X_train - After: 6.601549685001373 GB\n",
      "y_train - before: 1.3519973754882812 MB\n",
      "y_train - After: 1.3519973754882812 MB\n"
     ]
    }
   ]
  },
  {
   "cell_type": "code",
   "metadata": {
    "id": "Q6FRnVV6EG1R",
    "colab_type": "code",
    "outputId": "db4e6d68-dfa7-41ad-b3ae-ced935a2df0b",
    "colab": {
     "base_uri": "https://localhost:8080/",
     "height": 85
    },
    "ExecuteTime": {
     "end_time": "2025-03-04T04:30:13.717092Z",
     "start_time": "2025-03-04T04:29:21.180923Z"
    }
   },
   "source": [
    "#Create the template structure of test set\n",
    "X_test = np.zeros((N - trainPart, T, D))\n",
    "y_test = np.zeros(N - trainPart)\n",
    "\n",
    "#Preparing the time series data using timestep of 100 and no of features = 200\n",
    "for k in range(N - trainPart):\n",
    "  t = k + trainPart\n",
    "  X_test[k, :, :] = X[t:t+T]\n",
    "  y_test[k] = y[t+T]\n",
    "\n",
    "# Reducing X_test datasize memory usage\n",
    "print('X_test - Before {} GB'.format(X_test.nbytes/1024**3))\n",
    "X_test = X_test.astype('float16')\n",
    "print('X_test - After {} GB'.format(X_test.nbytes/1024**3))\n",
    "\n",
    "# Reducing Y_test datasize memory usage\n",
    "print('y_test - Before: {} MB'.format(y_test.nbytes/1024**2))\n",
    "y_test = y_test.astype('int')\n",
    "print('y_test - After: {} MB'.format(y_test.nbytes/1024**2))"
   ],
   "execution_count": 17,
   "outputs": [
    {
     "name": "stdout",
     "output_type": "stream",
     "text": [
      "X_test - Before 11.30223274230957 GB\n",
      "X_test - After 2.8255581855773926 GB\n",
      "y_test - Before: 0.57867431640625 MB\n",
      "y_test - After: 0.57867431640625 MB\n"
     ]
    }
   ]
  },
  {
   "cell_type": "code",
   "metadata": {
    "id": "8EEo4XmdFYRv",
    "colab_type": "code",
    "outputId": "0d6ef404-e1fb-4d05-d8db-86e34e9a4e63",
    "colab": {
     "base_uri": "https://localhost:8080/",
     "height": 119
    },
    "ExecuteTime": {
     "end_time": "2025-03-04T04:30:17.220338Z",
     "start_time": "2025-03-04T04:30:13.724313Z"
    }
   },
   "source": [
    "# Install TensorFlow\n",
    "# !pip install -q tensorflow-gpu==2.0.0-beta1\n",
    "\n",
    "# try:\n",
    "#   %tensorflow_version 2.x  # Colab only.\n",
    "# except Exception:\n",
    "#   pass\n",
    "\n",
    "import tensorflow as tf\n",
    "print(tf.__version__)"
   ],
   "execution_count": 18,
   "outputs": [
    {
     "name": "stdout",
     "output_type": "stream",
     "text": [
      "2.16.2\n"
     ]
    }
   ]
  },
  {
   "cell_type": "code",
   "outputs": [
    {
     "name": "stdout",
     "output_type": "stream",
     "text": [
      "GPU memory growth enabled\n"
     ]
    }
   ],
   "source": [
    "gpus = tf.config.experimental.list_physical_devices('GPU')\n",
    "if gpus:\n",
    "    try:\n",
    "        for gpu in gpus:\n",
    "            tf.config.experimental.set_memory_growth(gpu, True)\n",
    "        print(\"GPU memory growth enabled\")\n",
    "    except RuntimeError as e:\n",
    "        print(e)"
   ],
   "metadata": {
    "collapsed": false,
    "ExecuteTime": {
     "end_time": "2025-03-04T04:30:17.223966Z",
     "start_time": "2025-03-04T04:30:17.221086Z"
    }
   },
   "execution_count": 19
  },
  {
   "cell_type": "code",
   "metadata": {
    "id": "AisEvFPTjuZ0",
    "colab_type": "code",
    "colab": {},
    "ExecuteTime": {
     "end_time": "2025-03-04T04:30:17.233093Z",
     "start_time": "2025-03-04T04:30:17.224686Z"
    }
   },
   "source": [
    "from tensorflow.keras.layers import Input, Conv1D, Conv2D, Flatten, MaxPooling1D, MaxPooling2D, Dense, LeakyReLU\n",
    "from tensorflow.keras.models import Model\n",
    "from tensorflow.keras.optimizers import SGD, Adam"
   ],
   "execution_count": 20,
   "outputs": []
  },
  {
   "cell_type": "code",
   "metadata": {
    "id": "FjeF7paIHkLt",
    "colab_type": "code",
    "colab": {},
    "ExecuteTime": {
     "end_time": "2025-03-04T04:30:17.235517Z",
     "start_time": "2025-03-04T04:30:17.233824Z"
    }
   },
   "source": [
    "#Converting X_train and X_test for 2D Convolution\n",
    "X_train = np.expand_dims(X_train, -1)\n",
    "X_test = np.expand_dims(X_test, -1)"
   ],
   "execution_count": 21,
   "outputs": []
  },
  {
   "cell_type": "code",
   "metadata": {
    "id": "vkZo5eXYmkDd",
    "colab_type": "code",
    "outputId": "9562e695-f4f7-4dfe-8a8c-713ab3b5c40e",
    "colab": {
     "base_uri": "https://localhost:8080/",
     "height": 68
    },
    "ExecuteTime": {
     "end_time": "2025-03-04T04:30:17.467975Z",
     "start_time": "2025-03-04T04:30:17.236285Z"
    }
   },
   "source": [
    "#Model architecture is as from the report\n",
    "#T = 100 from the above step for timesteps and D = 200 (no. of features) \n",
    "i = Input(shape=X_train[0].shape)\n",
    "print(i)\n",
    "x = Conv2D(16, (4,D), activation=LeakyReLU(negative_slope=0.01))(i)\n",
    "print(x.shape)\n",
    "x = tf.keras.layers.Reshape(target_shape=(T-3,16))(x)\n",
    "print(x.shape)\n",
    "x = Conv1D(16, 4, activation=LeakyReLU(negative_slope=0.01))(x)\n",
    "x = MaxPooling1D(2)(x)\n",
    "x = Conv1D(32, 3, activation=LeakyReLU(negative_slope=0.01))(x)\n",
    "x = Conv1D(32, 3, activation=LeakyReLU(negative_slope=0.01))(x)\n",
    "x = MaxPooling1D(2)(x)\n",
    "x = Flatten()(x)\n",
    "x = Dense(32, activation=LeakyReLU(negative_slope=0.01))(x)\n",
    "x = Dense(3, activation='softmax')(x)\n",
    "\n",
    "model = Model(i,x)"
   ],
   "execution_count": 22,
   "outputs": [
    {
     "name": "stdout",
     "output_type": "stream",
     "text": [
      "<KerasTensor shape=(None, 100, 200, 1), dtype=float32, sparse=False, name=keras_tensor>\n",
      "(None, 97, 1, 16)\n",
      "(None, 97, 16)\n"
     ]
    },
    {
     "name": "stderr",
     "output_type": "stream",
     "text": [
      "2025-03-03 22:30:17.243117: I metal_plugin/src/device/metal_device.cc:1154] Metal device set to: Apple M1\n",
      "2025-03-03 22:30:17.243151: I metal_plugin/src/device/metal_device.cc:296] systemMemory: 16.00 GB\n",
      "2025-03-03 22:30:17.243155: I metal_plugin/src/device/metal_device.cc:313] maxCacheSize: 5.33 GB\n",
      "2025-03-03 22:30:17.243188: I tensorflow/core/common_runtime/pluggable_device/pluggable_device_factory.cc:305] Could not identify NUMA node of platform GPU ID 0, defaulting to 0. Your kernel may not have been built with NUMA support.\n",
      "2025-03-03 22:30:17.243200: I tensorflow/core/common_runtime/pluggable_device/pluggable_device_factory.cc:271] Created TensorFlow device (/job:localhost/replica:0/task:0/device:GPU:0 with 0 MB memory) -> physical PluggableDevice (device: 0, name: METAL, pci bus id: <undefined>)\n"
     ]
    }
   ]
  },
  {
   "cell_type": "code",
   "metadata": {
    "id": "_iWtFhsNFUqr",
    "colab_type": "code",
    "outputId": "9c03a540-431e-474d-e689-b3e6673441b3",
    "colab": {
     "base_uri": "https://localhost:8080/",
     "height": 527
    },
    "ExecuteTime": {
     "end_time": "2025-03-04T04:30:17.476848Z",
     "start_time": "2025-03-04T04:30:17.468752Z"
    }
   },
   "source": [
    "#Printing Model Summary\n",
    "model.summary()"
   ],
   "execution_count": 23,
   "outputs": [
    {
     "data": {
      "text/plain": "\u001B[1mModel: \"functional\"\u001B[0m\n",
      "text/html": "<pre style=\"white-space:pre;overflow-x:auto;line-height:normal;font-family:Menlo,'DejaVu Sans Mono',consolas,'Courier New',monospace\"><span style=\"font-weight: bold\">Model: \"functional\"</span>\n</pre>\n"
     },
     "metadata": {},
     "output_type": "display_data"
    },
    {
     "data": {
      "text/plain": "┏━━━━━━━━━━━━━━━━━━━━━━━━━━━━━━━━━┳━━━━━━━━━━━━━━━━━━━━━━━━┳━━━━━━━━━━━━━━━┓\n┃\u001B[1m \u001B[0m\u001B[1mLayer (type)                   \u001B[0m\u001B[1m \u001B[0m┃\u001B[1m \u001B[0m\u001B[1mOutput Shape          \u001B[0m\u001B[1m \u001B[0m┃\u001B[1m \u001B[0m\u001B[1m      Param #\u001B[0m\u001B[1m \u001B[0m┃\n┡━━━━━━━━━━━━━━━━━━━━━━━━━━━━━━━━━╇━━━━━━━━━━━━━━━━━━━━━━━━╇━━━━━━━━━━━━━━━┩\n│ input_layer (\u001B[38;5;33mInputLayer\u001B[0m)        │ (\u001B[38;5;45mNone\u001B[0m, \u001B[38;5;34m100\u001B[0m, \u001B[38;5;34m200\u001B[0m, \u001B[38;5;34m1\u001B[0m)    │             \u001B[38;5;34m0\u001B[0m │\n├─────────────────────────────────┼────────────────────────┼───────────────┤\n│ conv2d (\u001B[38;5;33mConv2D\u001B[0m)                 │ (\u001B[38;5;45mNone\u001B[0m, \u001B[38;5;34m97\u001B[0m, \u001B[38;5;34m1\u001B[0m, \u001B[38;5;34m16\u001B[0m)      │        \u001B[38;5;34m12,816\u001B[0m │\n├─────────────────────────────────┼────────────────────────┼───────────────┤\n│ reshape (\u001B[38;5;33mReshape\u001B[0m)               │ (\u001B[38;5;45mNone\u001B[0m, \u001B[38;5;34m97\u001B[0m, \u001B[38;5;34m16\u001B[0m)         │             \u001B[38;5;34m0\u001B[0m │\n├─────────────────────────────────┼────────────────────────┼───────────────┤\n│ conv1d (\u001B[38;5;33mConv1D\u001B[0m)                 │ (\u001B[38;5;45mNone\u001B[0m, \u001B[38;5;34m94\u001B[0m, \u001B[38;5;34m16\u001B[0m)         │         \u001B[38;5;34m1,040\u001B[0m │\n├─────────────────────────────────┼────────────────────────┼───────────────┤\n│ max_pooling1d (\u001B[38;5;33mMaxPooling1D\u001B[0m)    │ (\u001B[38;5;45mNone\u001B[0m, \u001B[38;5;34m47\u001B[0m, \u001B[38;5;34m16\u001B[0m)         │             \u001B[38;5;34m0\u001B[0m │\n├─────────────────────────────────┼────────────────────────┼───────────────┤\n│ conv1d_1 (\u001B[38;5;33mConv1D\u001B[0m)               │ (\u001B[38;5;45mNone\u001B[0m, \u001B[38;5;34m45\u001B[0m, \u001B[38;5;34m32\u001B[0m)         │         \u001B[38;5;34m1,568\u001B[0m │\n├─────────────────────────────────┼────────────────────────┼───────────────┤\n│ conv1d_2 (\u001B[38;5;33mConv1D\u001B[0m)               │ (\u001B[38;5;45mNone\u001B[0m, \u001B[38;5;34m43\u001B[0m, \u001B[38;5;34m32\u001B[0m)         │         \u001B[38;5;34m3,104\u001B[0m │\n├─────────────────────────────────┼────────────────────────┼───────────────┤\n│ max_pooling1d_1 (\u001B[38;5;33mMaxPooling1D\u001B[0m)  │ (\u001B[38;5;45mNone\u001B[0m, \u001B[38;5;34m21\u001B[0m, \u001B[38;5;34m32\u001B[0m)         │             \u001B[38;5;34m0\u001B[0m │\n├─────────────────────────────────┼────────────────────────┼───────────────┤\n│ flatten (\u001B[38;5;33mFlatten\u001B[0m)               │ (\u001B[38;5;45mNone\u001B[0m, \u001B[38;5;34m672\u001B[0m)            │             \u001B[38;5;34m0\u001B[0m │\n├─────────────────────────────────┼────────────────────────┼───────────────┤\n│ dense (\u001B[38;5;33mDense\u001B[0m)                   │ (\u001B[38;5;45mNone\u001B[0m, \u001B[38;5;34m32\u001B[0m)             │        \u001B[38;5;34m21,536\u001B[0m │\n├─────────────────────────────────┼────────────────────────┼───────────────┤\n│ dense_1 (\u001B[38;5;33mDense\u001B[0m)                 │ (\u001B[38;5;45mNone\u001B[0m, \u001B[38;5;34m3\u001B[0m)              │            \u001B[38;5;34m99\u001B[0m │\n└─────────────────────────────────┴────────────────────────┴───────────────┘\n",
      "text/html": "<pre style=\"white-space:pre;overflow-x:auto;line-height:normal;font-family:Menlo,'DejaVu Sans Mono',consolas,'Courier New',monospace\">┏━━━━━━━━━━━━━━━━━━━━━━━━━━━━━━━━━┳━━━━━━━━━━━━━━━━━━━━━━━━┳━━━━━━━━━━━━━━━┓\n┃<span style=\"font-weight: bold\"> Layer (type)                    </span>┃<span style=\"font-weight: bold\"> Output Shape           </span>┃<span style=\"font-weight: bold\">       Param # </span>┃\n┡━━━━━━━━━━━━━━━━━━━━━━━━━━━━━━━━━╇━━━━━━━━━━━━━━━━━━━━━━━━╇━━━━━━━━━━━━━━━┩\n│ input_layer (<span style=\"color: #0087ff; text-decoration-color: #0087ff\">InputLayer</span>)        │ (<span style=\"color: #00d7ff; text-decoration-color: #00d7ff\">None</span>, <span style=\"color: #00af00; text-decoration-color: #00af00\">100</span>, <span style=\"color: #00af00; text-decoration-color: #00af00\">200</span>, <span style=\"color: #00af00; text-decoration-color: #00af00\">1</span>)    │             <span style=\"color: #00af00; text-decoration-color: #00af00\">0</span> │\n├─────────────────────────────────┼────────────────────────┼───────────────┤\n│ conv2d (<span style=\"color: #0087ff; text-decoration-color: #0087ff\">Conv2D</span>)                 │ (<span style=\"color: #00d7ff; text-decoration-color: #00d7ff\">None</span>, <span style=\"color: #00af00; text-decoration-color: #00af00\">97</span>, <span style=\"color: #00af00; text-decoration-color: #00af00\">1</span>, <span style=\"color: #00af00; text-decoration-color: #00af00\">16</span>)      │        <span style=\"color: #00af00; text-decoration-color: #00af00\">12,816</span> │\n├─────────────────────────────────┼────────────────────────┼───────────────┤\n│ reshape (<span style=\"color: #0087ff; text-decoration-color: #0087ff\">Reshape</span>)               │ (<span style=\"color: #00d7ff; text-decoration-color: #00d7ff\">None</span>, <span style=\"color: #00af00; text-decoration-color: #00af00\">97</span>, <span style=\"color: #00af00; text-decoration-color: #00af00\">16</span>)         │             <span style=\"color: #00af00; text-decoration-color: #00af00\">0</span> │\n├─────────────────────────────────┼────────────────────────┼───────────────┤\n│ conv1d (<span style=\"color: #0087ff; text-decoration-color: #0087ff\">Conv1D</span>)                 │ (<span style=\"color: #00d7ff; text-decoration-color: #00d7ff\">None</span>, <span style=\"color: #00af00; text-decoration-color: #00af00\">94</span>, <span style=\"color: #00af00; text-decoration-color: #00af00\">16</span>)         │         <span style=\"color: #00af00; text-decoration-color: #00af00\">1,040</span> │\n├─────────────────────────────────┼────────────────────────┼───────────────┤\n│ max_pooling1d (<span style=\"color: #0087ff; text-decoration-color: #0087ff\">MaxPooling1D</span>)    │ (<span style=\"color: #00d7ff; text-decoration-color: #00d7ff\">None</span>, <span style=\"color: #00af00; text-decoration-color: #00af00\">47</span>, <span style=\"color: #00af00; text-decoration-color: #00af00\">16</span>)         │             <span style=\"color: #00af00; text-decoration-color: #00af00\">0</span> │\n├─────────────────────────────────┼────────────────────────┼───────────────┤\n│ conv1d_1 (<span style=\"color: #0087ff; text-decoration-color: #0087ff\">Conv1D</span>)               │ (<span style=\"color: #00d7ff; text-decoration-color: #00d7ff\">None</span>, <span style=\"color: #00af00; text-decoration-color: #00af00\">45</span>, <span style=\"color: #00af00; text-decoration-color: #00af00\">32</span>)         │         <span style=\"color: #00af00; text-decoration-color: #00af00\">1,568</span> │\n├─────────────────────────────────┼────────────────────────┼───────────────┤\n│ conv1d_2 (<span style=\"color: #0087ff; text-decoration-color: #0087ff\">Conv1D</span>)               │ (<span style=\"color: #00d7ff; text-decoration-color: #00d7ff\">None</span>, <span style=\"color: #00af00; text-decoration-color: #00af00\">43</span>, <span style=\"color: #00af00; text-decoration-color: #00af00\">32</span>)         │         <span style=\"color: #00af00; text-decoration-color: #00af00\">3,104</span> │\n├─────────────────────────────────┼────────────────────────┼───────────────┤\n│ max_pooling1d_1 (<span style=\"color: #0087ff; text-decoration-color: #0087ff\">MaxPooling1D</span>)  │ (<span style=\"color: #00d7ff; text-decoration-color: #00d7ff\">None</span>, <span style=\"color: #00af00; text-decoration-color: #00af00\">21</span>, <span style=\"color: #00af00; text-decoration-color: #00af00\">32</span>)         │             <span style=\"color: #00af00; text-decoration-color: #00af00\">0</span> │\n├─────────────────────────────────┼────────────────────────┼───────────────┤\n│ flatten (<span style=\"color: #0087ff; text-decoration-color: #0087ff\">Flatten</span>)               │ (<span style=\"color: #00d7ff; text-decoration-color: #00d7ff\">None</span>, <span style=\"color: #00af00; text-decoration-color: #00af00\">672</span>)            │             <span style=\"color: #00af00; text-decoration-color: #00af00\">0</span> │\n├─────────────────────────────────┼────────────────────────┼───────────────┤\n│ dense (<span style=\"color: #0087ff; text-decoration-color: #0087ff\">Dense</span>)                   │ (<span style=\"color: #00d7ff; text-decoration-color: #00d7ff\">None</span>, <span style=\"color: #00af00; text-decoration-color: #00af00\">32</span>)             │        <span style=\"color: #00af00; text-decoration-color: #00af00\">21,536</span> │\n├─────────────────────────────────┼────────────────────────┼───────────────┤\n│ dense_1 (<span style=\"color: #0087ff; text-decoration-color: #0087ff\">Dense</span>)                 │ (<span style=\"color: #00d7ff; text-decoration-color: #00d7ff\">None</span>, <span style=\"color: #00af00; text-decoration-color: #00af00\">3</span>)              │            <span style=\"color: #00af00; text-decoration-color: #00af00\">99</span> │\n└─────────────────────────────────┴────────────────────────┴───────────────┘\n</pre>\n"
     },
     "metadata": {},
     "output_type": "display_data"
    },
    {
     "data": {
      "text/plain": "\u001B[1m Total params: \u001B[0m\u001B[38;5;34m40,163\u001B[0m (156.89 KB)\n",
      "text/html": "<pre style=\"white-space:pre;overflow-x:auto;line-height:normal;font-family:Menlo,'DejaVu Sans Mono',consolas,'Courier New',monospace\"><span style=\"font-weight: bold\"> Total params: </span><span style=\"color: #00af00; text-decoration-color: #00af00\">40,163</span> (156.89 KB)\n</pre>\n"
     },
     "metadata": {},
     "output_type": "display_data"
    },
    {
     "data": {
      "text/plain": "\u001B[1m Trainable params: \u001B[0m\u001B[38;5;34m40,163\u001B[0m (156.89 KB)\n",
      "text/html": "<pre style=\"white-space:pre;overflow-x:auto;line-height:normal;font-family:Menlo,'DejaVu Sans Mono',consolas,'Courier New',monospace\"><span style=\"font-weight: bold\"> Trainable params: </span><span style=\"color: #00af00; text-decoration-color: #00af00\">40,163</span> (156.89 KB)\n</pre>\n"
     },
     "metadata": {},
     "output_type": "display_data"
    },
    {
     "data": {
      "text/plain": "\u001B[1m Non-trainable params: \u001B[0m\u001B[38;5;34m0\u001B[0m (0.00 B)\n",
      "text/html": "<pre style=\"white-space:pre;overflow-x:auto;line-height:normal;font-family:Menlo,'DejaVu Sans Mono',consolas,'Courier New',monospace\"><span style=\"font-weight: bold\"> Non-trainable params: </span><span style=\"color: #00af00; text-decoration-color: #00af00\">0</span> (0.00 B)\n</pre>\n"
     },
     "metadata": {},
     "output_type": "display_data"
    }
   ]
  },
  {
   "cell_type": "code",
   "metadata": {
    "id": "zxcsMebPpWS-",
    "colab_type": "code",
    "colab": {},
    "ExecuteTime": {
     "end_time": "2025-03-04T04:30:17.493081Z",
     "start_time": "2025-03-04T04:30:17.477612Z"
    }
   },
   "source": [
    "model.compile(optimizer='adam',\n",
    "              loss='sparse_categorical_crossentropy',\n",
    "              metrics=['accuracy'])\n",
    "#Accuracy is not a great metrics"
   ],
   "execution_count": 24,
   "outputs": []
  },
  {
   "cell_type": "code",
   "metadata": {
    "id": "QwRmHml2n42P",
    "colab_type": "code",
    "colab": {},
    "ExecuteTime": {
     "end_time": "2025-03-04T04:30:17.496006Z",
     "start_time": "2025-03-04T04:30:17.493901Z"
    }
   },
   "source": [
    "from sklearn.utils.class_weight import compute_class_weight\n",
    "def compute_class_weights(y):\n",
    "    classes = np.unique(y)\n",
    "    class_weight = compute_class_weight(class_weight=\"balanced\", classes=classes, y=y)\n",
    "    class_weights = dict(zip(classes, class_weight))\n",
    "    return class_weights"
   ],
   "execution_count": 25,
   "outputs": []
  },
  {
   "cell_type": "code",
   "metadata": {
    "id": "HJMve9aBhUIw",
    "colab_type": "code",
    "colab": {},
    "ExecuteTime": {
     "end_time": "2025-03-04T04:30:17.512257Z",
     "start_time": "2025-03-04T04:30:17.496706Z"
    }
   },
   "source": [
    "#computing class weights according to the percentage in training dataset\n",
    "class_weights = compute_class_weights(y_train)"
   ],
   "execution_count": 26,
   "outputs": []
  },
  {
   "cell_type": "code",
   "outputs": [],
   "source": [
    "# with tf.device('/GPU:0'):\n",
    "#     X_train = tf.convert_to_tensor(X_train)\n",
    "#     y_train = tf.convert_to_tensor(y_train)\n",
    "#     X_test = tf.convert_to_tensor(X_test)\n",
    "#     y_test = tf.convert_to_tensor(y_test)"
   ],
   "metadata": {
    "collapsed": false,
    "ExecuteTime": {
     "end_time": "2025-03-04T04:30:17.514581Z",
     "start_time": "2025-03-04T04:30:17.513007Z"
    }
   },
   "execution_count": 27
  },
  {
   "cell_type": "code",
   "outputs": [
    {
     "data": {
      "text/plain": "[PhysicalDevice(name='/physical_device:GPU:0', device_type='GPU')]"
     },
     "execution_count": 28,
     "metadata": {},
     "output_type": "execute_result"
    }
   ],
   "source": [
    "tf.config.experimental.list_physical_devices('GPU')"
   ],
   "metadata": {
    "collapsed": false,
    "ExecuteTime": {
     "end_time": "2025-03-04T04:30:17.517843Z",
     "start_time": "2025-03-04T04:30:17.515235Z"
    }
   },
   "execution_count": 28
  },
  {
   "cell_type": "code",
   "metadata": {
    "id": "jwab07y6Frhn",
    "colab_type": "code",
    "outputId": "e9820a80-f12f-4f41-838c-3ce5317815af",
    "colab": {
     "base_uri": "https://localhost:8080/",
     "height": 1000
    },
    "ExecuteTime": {
     "end_time": "2025-03-04T04:30:17.520579Z",
     "start_time": "2025-03-04T04:30:17.518702Z"
    }
   },
   "source": [
    "# EPOCHS = 50\n",
    "EPOCHS = 1\n",
    "BATCH_SIZE = 8\n",
    "# r = model.fit(\n",
    "#   X_train, y_train,\n",
    "#   batch_size=BATCH_SIZE,\n",
    "#   epochs=EPOCHS,\n",
    "#   validation_data=(X_test, y_test),\n",
    "#   class_weight = class_weights\n",
    "# )"
   ],
   "execution_count": 29,
   "outputs": []
  },
  {
   "cell_type": "code",
   "outputs": [
    {
     "name": "stdout",
     "output_type": "stream",
     "text": [
      "Epoch 1/50\n",
      "\u001B[1m11076/11076\u001B[0m \u001B[32m━━━━━━━━━━━━━━━━━━━━\u001B[0m\u001B[37m\u001B[0m \u001B[1m166s\u001B[0m 15ms/step - accuracy: 0.6572 - loss: 0.5753 - val_accuracy: 0.7434 - val_loss: 0.7088\n",
      "Epoch 2/50\n",
      "\u001B[1m11076/11076\u001B[0m \u001B[32m━━━━━━━━━━━━━━━━━━━━\u001B[0m\u001B[37m\u001B[0m \u001B[1m134s\u001B[0m 12ms/step - accuracy: 0.7151 - loss: 0.4486 - val_accuracy: 0.6871 - val_loss: 0.7567\n",
      "Epoch 3/50\n",
      "\u001B[1m11076/11076\u001B[0m \u001B[32m━━━━━━━━━━━━━━━━━━━━\u001B[0m\u001B[37m\u001B[0m \u001B[1m138s\u001B[0m 12ms/step - accuracy: 0.7610 - loss: 0.3874 - val_accuracy: 0.7630 - val_loss: 0.6458\n",
      "Epoch 4/50\n",
      "\u001B[1m11076/11076\u001B[0m \u001B[32m━━━━━━━━━━━━━━━━━━━━\u001B[0m\u001B[37m\u001B[0m \u001B[1m164s\u001B[0m 15ms/step - accuracy: 0.7875 - loss: 0.3419 - val_accuracy: 0.7479 - val_loss: 0.6486\n",
      "Epoch 5/50\n",
      "\u001B[1m11076/11076\u001B[0m \u001B[32m━━━━━━━━━━━━━━━━━━━━\u001B[0m\u001B[37m\u001B[0m \u001B[1m682s\u001B[0m 62ms/step - accuracy: 0.8113 - loss: 0.3119 - val_accuracy: 0.7838 - val_loss: 0.6008\n",
      "Epoch 6/50\n",
      "\u001B[1m11076/11076\u001B[0m \u001B[32m━━━━━━━━━━━━━━━━━━━━\u001B[0m\u001B[37m\u001B[0m \u001B[1m502s\u001B[0m 45ms/step - accuracy: 0.8357 - loss: 0.2759 - val_accuracy: 0.7289 - val_loss: 0.7447\n",
      "Epoch 7/50\n",
      "\u001B[1m11076/11076\u001B[0m \u001B[32m━━━━━━━━━━━━━━━━━━━━\u001B[0m\u001B[37m\u001B[0m \u001B[1m1070s\u001B[0m 97ms/step - accuracy: 0.8440 - loss: 0.2626 - val_accuracy: 0.8185 - val_loss: 0.5886\n",
      "Epoch 8/50\n",
      "\u001B[1m11076/11076\u001B[0m \u001B[32m━━━━━━━━━━━━━━━━━━━━\u001B[0m\u001B[37m\u001B[0m \u001B[1m467s\u001B[0m 42ms/step - accuracy: 0.8609 - loss: 0.2422 - val_accuracy: 0.8116 - val_loss: 0.6517\n",
      "Epoch 9/50\n",
      "\u001B[1m11076/11076\u001B[0m \u001B[32m━━━━━━━━━━━━━━━━━━━━\u001B[0m\u001B[37m\u001B[0m \u001B[1m1110s\u001B[0m 100ms/step - accuracy: 0.8652 - loss: 0.2294 - val_accuracy: 0.8221 - val_loss: 0.6317\n",
      "Epoch 10/50\n",
      "\u001B[1m11076/11076\u001B[0m \u001B[32m━━━━━━━━━━━━━━━━━━━━\u001B[0m\u001B[37m\u001B[0m \u001B[1m1508s\u001B[0m 136ms/step - accuracy: 0.8757 - loss: 0.2166 - val_accuracy: 0.8114 - val_loss: 0.6086\n",
      "Epoch 11/50\n",
      "\u001B[1m11076/11076\u001B[0m \u001B[32m━━━━━━━━━━━━━━━━━━━━\u001B[0m\u001B[37m\u001B[0m \u001B[1m107s\u001B[0m 10ms/step - accuracy: 0.8832 - loss: 0.2069 - val_accuracy: 0.8078 - val_loss: 0.7005\n",
      "Epoch 12/50\n",
      "\u001B[1m11076/11076\u001B[0m \u001B[32m━━━━━━━━━━━━━━━━━━━━\u001B[0m\u001B[37m\u001B[0m \u001B[1m115s\u001B[0m 10ms/step - accuracy: 0.8848 - loss: 0.2003 - val_accuracy: 0.8448 - val_loss: 0.6622\n",
      "Epoch 13/50\n",
      "\u001B[1m11076/11076\u001B[0m \u001B[32m━━━━━━━━━━━━━━━━━━━━\u001B[0m\u001B[37m\u001B[0m \u001B[1m118s\u001B[0m 11ms/step - accuracy: 0.8742 - loss: 0.2543 - val_accuracy: 0.7431 - val_loss: 0.8604\n",
      "Epoch 14/50\n",
      "\u001B[1m11076/11076\u001B[0m \u001B[32m━━━━━━━━━━━━━━━━━━━━\u001B[0m\u001B[37m\u001B[0m \u001B[1m120s\u001B[0m 11ms/step - accuracy: 0.8936 - loss: 0.1885 - val_accuracy: 0.8081 - val_loss: 0.7041\n",
      "Epoch 15/50\n",
      "\u001B[1m11076/11076\u001B[0m \u001B[32m━━━━━━━━━━━━━━━━━━━━\u001B[0m\u001B[37m\u001B[0m \u001B[1m125s\u001B[0m 11ms/step - accuracy: 0.8947 - loss: 0.1897 - val_accuracy: 0.7463 - val_loss: 0.8587\n",
      "Epoch 16/50\n",
      "\u001B[1m11076/11076\u001B[0m \u001B[32m━━━━━━━━━━━━━━━━━━━━\u001B[0m\u001B[37m\u001B[0m \u001B[1m273s\u001B[0m 25ms/step - accuracy: 0.8992 - loss: 0.1840 - val_accuracy: 0.7901 - val_loss: 0.7091\n",
      "Epoch 17/50\n",
      "\u001B[1m11076/11076\u001B[0m \u001B[32m━━━━━━━━━━━━━━━━━━━━\u001B[0m\u001B[37m\u001B[0m \u001B[1m114s\u001B[0m 10ms/step - accuracy: 0.8955 - loss: 0.1879 - val_accuracy: 0.8056 - val_loss: 0.7761\n",
      "Epoch 18/50\n",
      "\u001B[1m11076/11076\u001B[0m \u001B[32m━━━━━━━━━━━━━━━━━━━━\u001B[0m\u001B[37m\u001B[0m \u001B[1m121s\u001B[0m 11ms/step - accuracy: 0.9009 - loss: 0.1828 - val_accuracy: 0.7621 - val_loss: 0.7948\n",
      "Epoch 19/50\n",
      "\u001B[1m11076/11076\u001B[0m \u001B[32m━━━━━━━━━━━━━━━━━━━━\u001B[0m\u001B[37m\u001B[0m \u001B[1m125s\u001B[0m 11ms/step - accuracy: 0.8942 - loss: 0.1904 - val_accuracy: 0.8136 - val_loss: 0.7651\n",
      "Epoch 20/50\n",
      "\u001B[1m11076/11076\u001B[0m \u001B[32m━━━━━━━━━━━━━━━━━━━━\u001B[0m\u001B[37m\u001B[0m \u001B[1m1408s\u001B[0m 127ms/step - accuracy: 0.9099 - loss: 0.1629 - val_accuracy: 0.7724 - val_loss: 0.9418\n",
      "Epoch 21/50\n",
      "\u001B[1m11076/11076\u001B[0m \u001B[32m━━━━━━━━━━━━━━━━━━━━\u001B[0m\u001B[37m\u001B[0m \u001B[1m1114s\u001B[0m 101ms/step - accuracy: 0.9071 - loss: 0.1742 - val_accuracy: 0.8307 - val_loss: 0.7046\n",
      "Epoch 22/50\n",
      "\u001B[1m11076/11076\u001B[0m \u001B[32m━━━━━━━━━━━━━━━━━━━━\u001B[0m\u001B[37m\u001B[0m \u001B[1m110s\u001B[0m 10ms/step - accuracy: 0.9115 - loss: 0.1681 - val_accuracy: 0.7820 - val_loss: 0.8961\n",
      "Epoch 23/50\n",
      "\u001B[1m11076/11076\u001B[0m \u001B[32m━━━━━━━━━━━━━━━━━━━━\u001B[0m\u001B[37m\u001B[0m \u001B[1m117s\u001B[0m 11ms/step - accuracy: 0.9146 - loss: 0.1590 - val_accuracy: 0.8329 - val_loss: 0.7252\n",
      "Epoch 24/50\n",
      "\u001B[1m11076/11076\u001B[0m \u001B[32m━━━━━━━━━━━━━━━━━━━━\u001B[0m\u001B[37m\u001B[0m \u001B[1m121s\u001B[0m 11ms/step - accuracy: 0.9144 - loss: 0.1630 - val_accuracy: 0.8128 - val_loss: 0.7826\n",
      "Epoch 25/50\n",
      "\u001B[1m11076/11076\u001B[0m \u001B[32m━━━━━━━━━━━━━━━━━━━━\u001B[0m\u001B[37m\u001B[0m \u001B[1m121s\u001B[0m 11ms/step - accuracy: 0.9159 - loss: 0.1547 - val_accuracy: 0.8046 - val_loss: 0.8136\n",
      "Epoch 26/50\n",
      "\u001B[1m11076/11076\u001B[0m \u001B[32m━━━━━━━━━━━━━━━━━━━━\u001B[0m\u001B[37m\u001B[0m \u001B[1m123s\u001B[0m 11ms/step - accuracy: 0.9174 - loss: 0.1534 - val_accuracy: 0.8438 - val_loss: 0.7254\n",
      "Epoch 27/50\n",
      "\u001B[1m11076/11076\u001B[0m \u001B[32m━━━━━━━━━━━━━━━━━━━━\u001B[0m\u001B[37m\u001B[0m \u001B[1m891s\u001B[0m 80ms/step - accuracy: 0.9228 - loss: 0.1400 - val_accuracy: 0.8371 - val_loss: 0.7039\n",
      "Epoch 28/50\n",
      "\u001B[1m11076/11076\u001B[0m \u001B[32m━━━━━━━━━━━━━━━━━━━━\u001B[0m\u001B[37m\u001B[0m \u001B[1m1082s\u001B[0m 98ms/step - accuracy: 0.9234 - loss: 0.1440 - val_accuracy: 0.8171 - val_loss: 0.7803\n",
      "Epoch 29/50\n",
      "\u001B[1m11076/11076\u001B[0m \u001B[32m━━━━━━━━━━━━━━━━━━━━\u001B[0m\u001B[37m\u001B[0m \u001B[1m108s\u001B[0m 10ms/step - accuracy: 0.9225 - loss: 0.1474 - val_accuracy: 0.8246 - val_loss: 0.7611\n",
      "Epoch 30/50\n",
      "\u001B[1m11076/11076\u001B[0m \u001B[32m━━━━━━━━━━━━━━━━━━━━\u001B[0m\u001B[37m\u001B[0m \u001B[1m117s\u001B[0m 11ms/step - accuracy: 0.9239 - loss: 0.1406 - val_accuracy: 0.8282 - val_loss: 0.7316\n",
      "Epoch 31/50\n",
      "\u001B[1m11076/11076\u001B[0m \u001B[32m━━━━━━━━━━━━━━━━━━━━\u001B[0m\u001B[37m\u001B[0m \u001B[1m484s\u001B[0m 44ms/step - accuracy: 0.9214 - loss: 0.1612 - val_accuracy: 0.8541 - val_loss: 0.7316\n",
      "Epoch 32/50\n",
      "\u001B[1m11076/11076\u001B[0m \u001B[32m━━━━━━━━━━━━━━━━━━━━\u001B[0m\u001B[37m\u001B[0m \u001B[1m1314s\u001B[0m 119ms/step - accuracy: 0.9252 - loss: 0.1402 - val_accuracy: 0.8495 - val_loss: 0.6981\n",
      "Epoch 33/50\n",
      "\u001B[1m11076/11076\u001B[0m \u001B[32m━━━━━━━━━━━━━━━━━━━━\u001B[0m\u001B[37m\u001B[0m \u001B[1m108s\u001B[0m 10ms/step - accuracy: 0.9267 - loss: 0.1446 - val_accuracy: 0.8404 - val_loss: 0.7794\n",
      "Epoch 34/50\n",
      "\u001B[1m11076/11076\u001B[0m \u001B[32m━━━━━━━━━━━━━━━━━━━━\u001B[0m\u001B[37m\u001B[0m \u001B[1m115s\u001B[0m 10ms/step - accuracy: 0.9239 - loss: 0.1525 - val_accuracy: 0.8469 - val_loss: 0.7473\n",
      "Epoch 35/50\n",
      "\u001B[1m11076/11076\u001B[0m \u001B[32m━━━━━━━━━━━━━━━━━━━━\u001B[0m\u001B[37m\u001B[0m \u001B[1m119s\u001B[0m 11ms/step - accuracy: 0.9250 - loss: 0.1478 - val_accuracy: 0.8386 - val_loss: 0.8127\n",
      "Epoch 36/50\n",
      "\u001B[1m11076/11076\u001B[0m \u001B[32m━━━━━━━━━━━━━━━━━━━━\u001B[0m\u001B[37m\u001B[0m \u001B[1m120s\u001B[0m 11ms/step - accuracy: 0.9301 - loss: 0.1416 - val_accuracy: 0.6964 - val_loss: 1.2571\n",
      "Epoch 37/50\n",
      "\u001B[1m11076/11076\u001B[0m \u001B[32m━━━━━━━━━━━━━━━━━━━━\u001B[0m\u001B[37m\u001B[0m \u001B[1m122s\u001B[0m 11ms/step - accuracy: 0.9259 - loss: 0.1480 - val_accuracy: 0.8106 - val_loss: 0.9838\n",
      "Epoch 38/50\n",
      "\u001B[1m11076/11076\u001B[0m \u001B[32m━━━━━━━━━━━━━━━━━━━━\u001B[0m\u001B[37m\u001B[0m \u001B[1m1155s\u001B[0m 104ms/step - accuracy: 0.9293 - loss: 0.1397 - val_accuracy: 0.8380 - val_loss: 0.8804\n",
      "Epoch 39/50\n",
      "\u001B[1m11076/11076\u001B[0m \u001B[32m━━━━━━━━━━━━━━━━━━━━\u001B[0m\u001B[37m\u001B[0m \u001B[1m112s\u001B[0m 10ms/step - accuracy: 0.9305 - loss: 0.1364 - val_accuracy: 0.8521 - val_loss: 0.8489\n",
      "Epoch 40/50\n",
      "\u001B[1m11076/11076\u001B[0m \u001B[32m━━━━━━━━━━━━━━━━━━━━\u001B[0m\u001B[37m\u001B[0m \u001B[1m866s\u001B[0m 78ms/step - accuracy: 0.9304 - loss: 0.1365 - val_accuracy: 0.8320 - val_loss: 0.8295\n",
      "Epoch 41/50\n",
      "\u001B[1m11076/11076\u001B[0m \u001B[32m━━━━━━━━━━━━━━━━━━━━\u001B[0m\u001B[37m\u001B[0m \u001B[1m1112s\u001B[0m 100ms/step - accuracy: 0.9336 - loss: 0.1913 - val_accuracy: 0.8325 - val_loss: 0.7762\n",
      "Epoch 42/50\n",
      "\u001B[1m11076/11076\u001B[0m \u001B[32m━━━━━━━━━━━━━━━━━━━━\u001B[0m\u001B[37m\u001B[0m \u001B[1m107s\u001B[0m 10ms/step - accuracy: 0.9349 - loss: 0.1286 - val_accuracy: 0.8311 - val_loss: 0.7900\n",
      "Epoch 43/50\n",
      "\u001B[1m11076/11076\u001B[0m \u001B[32m━━━━━━━━━━━━━━━━━━━━\u001B[0m\u001B[37m\u001B[0m \u001B[1m1554s\u001B[0m 140ms/step - accuracy: 0.9367 - loss: 0.1228 - val_accuracy: 0.8354 - val_loss: 0.8082\n",
      "Epoch 44/50\n",
      "\u001B[1m11076/11076\u001B[0m \u001B[32m━━━━━━━━━━━━━━━━━━━━\u001B[0m\u001B[37m\u001B[0m \u001B[1m106s\u001B[0m 10ms/step - accuracy: 0.9371 - loss: 0.1265 - val_accuracy: 0.7931 - val_loss: 0.9149\n",
      "Epoch 45/50\n",
      "\u001B[1m11076/11076\u001B[0m \u001B[32m━━━━━━━━━━━━━━━━━━━━\u001B[0m\u001B[37m\u001B[0m \u001B[1m111s\u001B[0m 10ms/step - accuracy: 0.9347 - loss: 0.1307 - val_accuracy: 0.8417 - val_loss: 0.8546\n",
      "Epoch 46/50\n",
      "\u001B[1m11076/11076\u001B[0m \u001B[32m━━━━━━━━━━━━━━━━━━━━\u001B[0m\u001B[37m\u001B[0m \u001B[1m119s\u001B[0m 11ms/step - accuracy: 0.9113 - loss: 0.2579 - val_accuracy: 0.8294 - val_loss: 0.9164\n",
      "Epoch 47/50\n",
      "\u001B[1m11076/11076\u001B[0m \u001B[32m━━━━━━━━━━━━━━━━━━━━\u001B[0m\u001B[37m\u001B[0m \u001B[1m118s\u001B[0m 11ms/step - accuracy: 0.9268 - loss: 0.1556 - val_accuracy: 0.8285 - val_loss: 0.8560\n",
      "Epoch 48/50\n",
      "\u001B[1m11076/11076\u001B[0m \u001B[32m━━━━━━━━━━━━━━━━━━━━\u001B[0m\u001B[37m\u001B[0m \u001B[1m1909s\u001B[0m 172ms/step - accuracy: 0.9334 - loss: 0.1345 - val_accuracy: 0.8235 - val_loss: 0.8816\n",
      "Epoch 49/50\n",
      "\u001B[1m11076/11076\u001B[0m \u001B[32m━━━━━━━━━━━━━━━━━━━━\u001B[0m\u001B[37m\u001B[0m \u001B[1m1034s\u001B[0m 93ms/step - accuracy: 0.9327 - loss: 0.1333 - val_accuracy: 0.8388 - val_loss: 0.8289\n",
      "Epoch 50/50\n",
      "\u001B[1m11076/11076\u001B[0m \u001B[32m━━━━━━━━━━━━━━━━━━━━\u001B[0m\u001B[37m\u001B[0m \u001B[1m931s\u001B[0m 84ms/step - accuracy: 0.9352 - loss: 0.1303 - val_accuracy: 0.8243 - val_loss: 0.9942\n"
     ]
    }
   ],
   "source": [
    "EPOCHS = 50\n",
    "BATCH_SIZE = 16\n",
    "with tf.device('/CPU:0'):\n",
    "    r = model.fit(\n",
    "      X_train, y_train,\n",
    "      batch_size=BATCH_SIZE,\n",
    "      epochs=EPOCHS,\n",
    "      validation_data=(X_test, y_test),\n",
    "      class_weight=class_weights\n",
    "    )"
   ],
   "metadata": {
    "collapsed": false,
    "ExecuteTime": {
     "end_time": "2025-03-04T11:22:45.490353Z",
     "start_time": "2025-03-04T04:39:14.530920Z"
    }
   },
   "execution_count": 37
  },
  {
   "cell_type": "code",
   "metadata": {
    "id": "lcf2wsdzSSoI",
    "colab_type": "code",
    "outputId": "5de03cb0-afc1-4530-9ff6-78494360ac27",
    "colab": {
     "base_uri": "https://localhost:8080/",
     "height": 312
    },
    "ExecuteTime": {
     "end_time": "2025-03-04T11:22:46.902787Z",
     "start_time": "2025-03-04T11:22:45.513437Z"
    }
   },
   "source": [
    "sns.lineplot(x=range(1,EPOCHS+1),y=r.history['loss'])\n",
    "sns.lineplot(x=range(1,EPOCHS+1),y=r.history['val_loss'])\n",
    "plt.title('Model Cross Entropy Loss')\n",
    "plt.ylabel('Cross Entropy Loss')\n",
    "plt.xlabel('Epochs')\n",
    "plt.legend(['Training', 'Testing'], loc='upper left')"
   ],
   "execution_count": 38,
   "outputs": [
    {
     "data": {
      "text/plain": "<matplotlib.legend.Legend at 0x31463bdf0>"
     },
     "execution_count": 38,
     "metadata": {},
     "output_type": "execute_result"
    },
    {
     "data": {
      "text/plain": "<Figure size 640x480 with 1 Axes>",
      "image/png": "[encoded data removed]"
     },
     "metadata": {},
     "output_type": "display_data"
    }
   ]
  },
  {
   "cell_type": "code",
   "metadata": {
    "id": "AyMpH7DVlc8m",
    "colab_type": "code",
    "colab": {},
    "ExecuteTime": {
     "end_time": "2025-03-04T11:22:46.905207Z",
     "start_time": "2025-03-04T11:22:46.903452Z"
    }
   },
   "source": [
    "# Model is clearly overfitting as the training loss is decreasing but the testing loss is just increasing. The confusion matrix below gives better information"
   ],
   "execution_count": 39,
   "outputs": []
  },
  {
   "cell_type": "code",
   "metadata": {
    "id": "qyGI6Al2n30C",
    "colab_type": "code",
    "colab": {},
    "ExecuteTime": {
     "end_time": "2025-03-04T11:39:40.181443Z",
     "start_time": "2025-03-04T11:22:46.906381Z"
    }
   },
   "source": [
    "y_pred = model.predict(X_test).argmax(axis=1)"
   ],
   "execution_count": 40,
   "outputs": [
    {
     "name": "stdout",
     "output_type": "stream",
     "text": [
      "\u001B[1m2371/2371\u001B[0m \u001B[32m━━━━━━━━━━━━━━━━━━━━\u001B[0m\u001B[37m\u001B[0m \u001B[1m13s\u001B[0m 5ms/step\n"
     ]
    }
   ]
  },
  {
   "cell_type": "code",
   "metadata": {
    "id": "vJugwyIJI_DC",
    "colab_type": "code",
    "outputId": "2f7b9a39-bbe7-4405-8079-9d9d673e416c",
    "colab": {
     "base_uri": "https://localhost:8080/",
     "height": 136
    },
    "ExecuteTime": {
     "end_time": "2025-03-04T11:40:32.003752Z",
     "start_time": "2025-03-04T11:39:40.186775Z"
    }
   },
   "source": [
    " model.predict(X_test)"
   ],
   "execution_count": 41,
   "outputs": [
    {
     "name": "stdout",
     "output_type": "stream",
     "text": [
      "\u001B[1m2371/2371\u001B[0m \u001B[32m━━━━━━━━━━━━━━━━━━━━\u001B[0m\u001B[37m\u001B[0m \u001B[1m14s\u001B[0m 6ms/step\n"
     ]
    },
    {
     "data": {
      "text/plain": "array([[5.2262145e-05, 9.9981648e-01, 1.3127481e-04],\n       [5.2262145e-05, 9.9981648e-01, 1.3127481e-04],\n       [5.2262145e-05, 9.9981648e-01, 1.3127481e-04],\n       ...,\n       [5.2261352e-05, 9.9981648e-01, 1.3127280e-04],\n       [5.2261352e-05, 9.9981648e-01, 1.3127280e-04],\n       [5.2261352e-05, 9.9981648e-01, 1.3127280e-04]], dtype=float32)"
     },
     "execution_count": 41,
     "metadata": {},
     "output_type": "execute_result"
    }
   ]
  },
  {
   "cell_type": "code",
   "metadata": {
    "id": "WMhHGaX6i-oG",
    "colab_type": "code",
    "outputId": "8425b258-8929-432d-b89c-ab836e717e06",
    "colab": {
     "base_uri": "https://localhost:8080/",
     "height": 265
    },
    "ExecuteTime": {
     "end_time": "2025-03-05T01:39:56.023979Z",
     "start_time": "2025-03-05T01:39:55.839987Z"
    }
   },
   "source": [
    "# Plot confusion matrix\n",
    "from sklearn.metrics import confusion_matrix\n",
    "\n",
    "cm = confusion_matrix(y_pred=y_pred, y_true=y_test)\n",
    "    \n",
    "cm = cm.astype('float') / cm.sum(axis=1)[:, np.newaxis]\n",
    "    \n",
    "ax=sns.heatmap(cm, annot=True, xticklabels=[0,1,2], yticklabels=[0,1,2], cmap='Blues')\n",
    "ax.set_ylim(3.0, 0)\n",
    "plt.show()"
   ],
   "execution_count": 44,
   "outputs": [
    {
     "data": {
      "text/plain": "<Figure size 640x480 with 2 Axes>",
      "image/png": "[encoded data removed]"
     },
     "metadata": {},
     "output_type": "display_data"
    }
   ]
  },
  {
   "cell_type": "code",
   "metadata": {
    "id": "v_tLLfJA6IT0",
    "colab_type": "code",
    "outputId": "e92c4aa1-8ad8-4bc9-f0e7-746c9962e6ed",
    "colab": {
     "base_uri": "https://localhost:8080/",
     "height": 187
    },
    "ExecuteTime": {
     "end_time": "2025-03-04T11:40:32.174323Z",
     "start_time": "2025-03-04T11:40:32.150794Z"
    }
   },
   "source": [
    "#Print the classification report\n",
    "print(classification_report(y_true= y_test, y_pred = y_pred))"
   ],
   "execution_count": 43,
   "outputs": [
    {
     "name": "stdout",
     "output_type": "stream",
     "text": [
      "              precision    recall  f1-score   support\n",
      "\n",
      "           0       0.00      0.00      0.00      2853\n",
      "           1       0.93      1.00      0.96     70389\n",
      "           2       0.00      0.00      0.00      2606\n",
      "\n",
      "    accuracy                           0.93     75848\n",
      "   macro avg       0.31      0.33      0.32     75848\n",
      "weighted avg       0.86      0.93      0.89     75848\n"
     ]
    },
    {
     "name": "stderr",
     "output_type": "stream",
     "text": [
      "/Users/janyubhatt/opt/anaconda3/envs/deep-orderbook_jbhatt3/lib/python3.9/site-packages/sklearn/metrics/_classification.py:1565: UndefinedMetricWarning: Precision is ill-defined and being set to 0.0 in labels with no predicted samples. Use `zero_division` parameter to control this behavior.\n",
      "  _warn_prf(average, modifier, f\"{metric.capitalize()} is\", len(result))\n",
      "/Users/janyubhatt/opt/anaconda3/envs/deep-orderbook_jbhatt3/lib/python3.9/site-packages/sklearn/metrics/_classification.py:1565: UndefinedMetricWarning: Precision is ill-defined and being set to 0.0 in labels with no predicted samples. Use `zero_division` parameter to control this behavior.\n",
      "  _warn_prf(average, modifier, f\"{metric.capitalize()} is\", len(result))\n",
      "/Users/janyubhatt/opt/anaconda3/envs/deep-orderbook_jbhatt3/lib/python3.9/site-packages/sklearn/metrics/_classification.py:1565: UndefinedMetricWarning: Precision is ill-defined and being set to 0.0 in labels with no predicted samples. Use `zero_division` parameter to control this behavior.\n",
      "  _warn_prf(average, modifier, f\"{metric.capitalize()} is\", len(result))\n"
     ]
    }
   ]
  },
  {
   "cell_type": "code",
   "metadata": {
    "id": "4Hi_ropAlB3U",
    "colab_type": "code",
    "colab": {},
    "ExecuteTime": {
     "end_time": "2025-03-04T04:38:59.606885Z",
     "start_time": "2025-03-04T04:38:59.604509Z"
    }
   },
   "source": [],
   "execution_count": 36,
   "outputs": []
  }
 ]
}
