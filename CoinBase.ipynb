{
 "nbformat": 4,
 "nbformat_minor": 0,
 "metadata": {
  "colab": {
   "name": "CoinBase.ipynb",
   "provenance": [],
   "collapsed_sections": [],
   "machine_shape": "hm",
   "include_colab_link": true
  },
  "kernelspec": {
   "name": "python3",
   "language": "python",
   "display_name": "Python 3 (ipykernel)"
  },
  "accelerator": "TPU"
 },
 "cells": [
  {
   "cell_type": "markdown",
   "metadata": {
    "id": "view-in-github",
    "colab_type": "text"
   },
   "source": [
    "<a href=\"https://colab.research.google.com/github/rkj26/deep-orderbook/blob/rakshit_jha/CoinBase.ipynb\" target=\"_parent\"><img src=\"https://colab.research.google.com/assets/colab-badge.svg\" alt=\"Open In Colab\"/></a>"
   ]
  },
  {
   "cell_type": "code",
   "metadata": {
    "id": "sh_SnT3l9HZz",
    "colab_type": "code",
    "colab": {}
   },
   "source": [
    "%%capture\n",
    "!wget -O dataset.7z https://www.dropbox.com/sh/w3qagq2ze9noxon/AACE6f4nkBAJaJEc7Nbf2nhla/coinbase_btc_usd.7z?dl=0"
   ],
   "execution_count": 0,
   "outputs": []
  },
  {
   "cell_type": "code",
   "metadata": {
    "id": "hYTd7ONy-IO9",
    "colab_type": "code",
    "colab": {},
    "ExecuteTime": {
     "end_time": "2025-02-26T00:56:51.666558Z",
     "start_time": "2025-02-26T00:56:47.319860Z"
    }
   },
   "source": [
    "%%capture\n",
    "!pip install pyunpack\n",
    "!pip install patool"
   ],
   "execution_count": 1,
   "outputs": []
  },
  {
   "cell_type": "code",
   "metadata": {
    "id": "N4mqvERn9yr5",
    "colab_type": "code",
    "colab": {},
    "ExecuteTime": {
     "end_time": "2025-02-26T00:56:57.524068Z",
     "start_time": "2025-02-26T00:56:57.514943Z"
    }
   },
   "source": [
    "from pyunpack import Archive"
   ],
   "execution_count": 2,
   "outputs": []
  },
  {
   "cell_type": "code",
   "metadata": {
    "id": "fmfVVJx0-GMx",
    "colab_type": "code",
    "colab": {},
    "ExecuteTime": {
     "end_time": "2025-02-26T00:58:00.202999Z",
     "start_time": "2025-02-26T00:57:59.600864Z"
    }
   },
   "source": [
    "Archive('/content/dataset.7z').extractall(\"/content\")"
   ],
   "execution_count": 3,
   "outputs": [
    {
     "ename": "ValueError",
     "evalue": "archive file does not exist:/content/dataset.7z",
     "output_type": "error",
     "traceback": [
      "\u001B[0;31m---------------------------------------------------------------------------\u001B[0m",
      "\u001B[0;31mValueError\u001B[0m                                Traceback (most recent call last)",
      "Cell \u001B[0;32mIn[3], line 1\u001B[0m\n\u001B[0;32m----> 1\u001B[0m \u001B[43mArchive\u001B[49m\u001B[43m(\u001B[49m\u001B[38;5;124;43m'\u001B[39;49m\u001B[38;5;124;43m/content/dataset.7z\u001B[39;49m\u001B[38;5;124;43m'\u001B[39;49m\u001B[43m)\u001B[49m\u001B[38;5;241;43m.\u001B[39;49m\u001B[43mextractall\u001B[49m\u001B[43m(\u001B[49m\u001B[38;5;124;43m\"\u001B[39;49m\u001B[38;5;124;43m/content\u001B[39;49m\u001B[38;5;124;43m\"\u001B[39;49m\u001B[43m)\u001B[49m\n",
      "File \u001B[0;32m~/opt/anaconda3/lib/python3.9/site-packages/pyunpack/__init__.py:102\u001B[0m, in \u001B[0;36mArchive.extractall\u001B[0;34m(self, directory, auto_create_dir, patool_path)\u001B[0m\n\u001B[1;32m    100\u001B[0m directory \u001B[38;5;241m=\u001B[39m _fullpath(directory)\n\u001B[1;32m    101\u001B[0m \u001B[38;5;28;01mif\u001B[39;00m \u001B[38;5;129;01mnot\u001B[39;00m os\u001B[38;5;241m.\u001B[39mpath\u001B[38;5;241m.\u001B[39mexists(\u001B[38;5;28mself\u001B[39m\u001B[38;5;241m.\u001B[39mfilename):\n\u001B[0;32m--> 102\u001B[0m     \u001B[38;5;28;01mraise\u001B[39;00m \u001B[38;5;167;01mValueError\u001B[39;00m(\u001B[38;5;124m\"\u001B[39m\u001B[38;5;124marchive file does not exist:\u001B[39m\u001B[38;5;124m\"\u001B[39m \u001B[38;5;241m+\u001B[39m \u001B[38;5;28mstr\u001B[39m(\u001B[38;5;28mself\u001B[39m\u001B[38;5;241m.\u001B[39mfilename))\n\u001B[1;32m    103\u001B[0m \u001B[38;5;28;01mif\u001B[39;00m \u001B[38;5;129;01mnot\u001B[39;00m os\u001B[38;5;241m.\u001B[39mpath\u001B[38;5;241m.\u001B[39mexists(directory):\n\u001B[1;32m    104\u001B[0m     \u001B[38;5;28;01mif\u001B[39;00m auto_create_dir:\n",
      "\u001B[0;31mValueError\u001B[0m: archive file does not exist:/content/dataset.7z"
     ]
    }
   ]
  },
  {
   "cell_type": "code",
   "metadata": {
    "id": "rc5Q7S_b-c0p",
    "colab_type": "code",
    "colab": {},
    "ExecuteTime": {
     "end_time": "2025-03-04T00:17:38.920426Z",
     "start_time": "2025-03-04T00:17:38.390346Z"
    }
   },
   "source": [
    "import os\n",
    "import pandas as pd\n",
    "import numpy as np\n",
    "%matplotlib inline\n",
    "import matplotlib.pyplot as plt\n",
    "import seaborn as sns\n",
    "import gc\n",
    "from tqdm import tqdm\n",
    "from sklearn.preprocessing import StandardScaler\n",
    "from sklearn.metrics import classification_report"
   ],
   "execution_count": 1,
   "outputs": []
  },
  {
   "cell_type": "code",
   "metadata": {
    "id": "33uRritzLow_",
    "colab_type": "code",
    "colab": {},
    "ExecuteTime": {
     "end_time": "2025-03-04T00:17:38.924443Z",
     "start_time": "2025-03-04T00:17:38.921638Z"
    }
   },
   "source": [
    "path_ = 'content/coinbase_btc_usd/coinbase/btc_usd/l2_snapshots/100ms/'"
   ],
   "execution_count": 2,
   "outputs": []
  },
  {
   "cell_type": "code",
   "metadata": {
    "id": "Io0T4wiBJ5xz",
    "colab_type": "code",
    "colab": {},
    "ExecuteTime": {
     "end_time": "2025-03-04T00:17:39.248437Z",
     "start_time": "2025-03-04T00:17:38.925359Z"
    }
   },
   "source": [
    "# l2_snapshot = pd.read_parquet('/content/coinbase_btc_usd/coinbase/btc_usd/l2_snapshots/100ms/coinbase_btc_usd_l2_book_snapshots_depth50_2019_11_12_0000_0100.parquet')\n",
    "\n",
    "l2_snapshot = pd.read_parquet('content/coinbase_btc_usd/coinbase/btc_usd/l2_snapshots/100ms/coinbase_btc_usd_l2_book_snapshots_depth50_2019_11_12_0000_0100.parquet')"
   ],
   "execution_count": 3,
   "outputs": []
  },
  {
   "cell_type": "code",
   "metadata": {
    "id": "w3x4QWVDeo3-",
    "colab_type": "code",
    "outputId": "4a45778a-d708-4a47-f4e9-18911cb2818f",
    "colab": {
     "base_uri": "https://localhost:8080/",
     "height": 369
    },
    "ExecuteTime": {
     "end_time": "2025-03-04T00:17:39.261782Z",
     "start_time": "2025-03-04T00:17:39.249690Z"
    }
   },
   "source": [
    "l2_snapshot.head()"
   ],
   "execution_count": 4,
   "outputs": [
    {
     "data": {
      "text/plain": "                              b1       b2       b3       b4      b5       b6  \\\ntimestamp                                                                      \n2019-11-12 00:00:00.000  8721.53  8720.59  8719.55  8719.50  8719.0  8718.02   \n2019-11-12 00:00:00.100  8721.53  8720.59  8719.56  8719.55  8719.0  8718.02   \n2019-11-12 00:00:00.200  8721.53  8720.59  8719.61  8719.56  8719.0  8718.02   \n2019-11-12 00:00:00.300  8721.53  8720.59  8719.61  8719.56  8719.0  8718.02   \n2019-11-12 00:00:00.400  8721.53  8720.59  8719.61  8719.56  8719.0  8718.99   \n\n                              b7       b8       b9      b10  ...      aq41  \\\ntimestamp                                                    ...             \n2019-11-12 00:00:00.000  8717.87  8717.85  8717.56  8716.06  ...  8.200000   \n2019-11-12 00:00:00.100  8717.87  8717.85  8717.56  8716.06  ...  8.200000   \n2019-11-12 00:00:00.200  8717.87  8717.85  8716.06  8716.00  ...  0.009135   \n2019-11-12 00:00:00.300  8718.00  8717.87  8717.85  8716.60  ...  0.009135   \n2019-11-12 00:00:00.400  8718.02  8718.00  8717.87  8717.85  ...  0.009135   \n\n                          aq42   aq43   aq44   aq45      aq46      aq47  \\\ntimestamp                                                                 \n2019-11-12 00:00:00.000  2.203  2.600  0.005  2.500  0.896321  0.766000   \n2019-11-12 00:00:00.100  2.203  2.600  0.005  2.500  0.896321  0.766000   \n2019-11-12 00:00:00.200  8.200  2.203  2.600  0.005  2.500000  0.896321   \n2019-11-12 00:00:00.300  8.200  2.203  2.600  0.005  2.500000  0.896321   \n2019-11-12 00:00:00.400  8.200  2.203  2.600  0.005  2.500000  0.896321   \n\n                             aq48      aq49      aq50  \ntimestamp                                              \n2019-11-12 00:00:00.000  0.001737  1.820000  0.933419  \n2019-11-12 00:00:00.100  0.001737  1.820000  0.933419  \n2019-11-12 00:00:00.200  0.766000  0.001737  1.820000  \n2019-11-12 00:00:00.300  0.766000  0.001737  1.820000  \n2019-11-12 00:00:00.400  0.766000  0.001737  1.820000  \n\n[5 rows x 200 columns]",
      "text/html": "<div>\n<style scoped>\n    .dataframe tbody tr th:only-of-type {\n        vertical-align: middle;\n    }\n\n    .dataframe tbody tr th {\n        vertical-align: top;\n    }\n\n    .dataframe thead th {\n        text-align: right;\n    }\n</style>\n<table border=\"1\" class=\"dataframe\">\n  <thead>\n    <tr style=\"text-align: right;\">\n      <th></th>\n      <th>b1</th>\n      <th>b2</th>\n      <th>b3</th>\n      <th>b4</th>\n      <th>b5</th>\n      <th>b6</th>\n      <th>b7</th>\n      <th>b8</th>\n      <th>b9</th>\n      <th>b10</th>\n      <th>...</th>\n      <th>aq41</th>\n      <th>aq42</th>\n      <th>aq43</th>\n      <th>aq44</th>\n      <th>aq45</th>\n      <th>aq46</th>\n      <th>aq47</th>\n      <th>aq48</th>\n      <th>aq49</th>\n      <th>aq50</th>\n    </tr>\n    <tr>\n      <th>timestamp</th>\n      <th></th>\n      <th></th>\n      <th></th>\n      <th></th>\n      <th></th>\n      <th></th>\n      <th></th>\n      <th></th>\n      <th></th>\n      <th></th>\n      <th></th>\n      <th></th>\n      <th></th>\n      <th></th>\n      <th></th>\n      <th></th>\n      <th></th>\n      <th></th>\n      <th></th>\n      <th></th>\n      <th></th>\n    </tr>\n  </thead>\n  <tbody>\n    <tr>\n      <th>2019-11-12 00:00:00.000</th>\n      <td>8721.53</td>\n      <td>8720.59</td>\n      <td>8719.55</td>\n      <td>8719.50</td>\n      <td>8719.0</td>\n      <td>8718.02</td>\n      <td>8717.87</td>\n      <td>8717.85</td>\n      <td>8717.56</td>\n      <td>8716.06</td>\n      <td>...</td>\n      <td>8.200000</td>\n      <td>2.203</td>\n      <td>2.600</td>\n      <td>0.005</td>\n      <td>2.500</td>\n      <td>0.896321</td>\n      <td>0.766000</td>\n      <td>0.001737</td>\n      <td>1.820000</td>\n      <td>0.933419</td>\n    </tr>\n    <tr>\n      <th>2019-11-12 00:00:00.100</th>\n      <td>8721.53</td>\n      <td>8720.59</td>\n      <td>8719.56</td>\n      <td>8719.55</td>\n      <td>8719.0</td>\n      <td>8718.02</td>\n      <td>8717.87</td>\n      <td>8717.85</td>\n      <td>8717.56</td>\n      <td>8716.06</td>\n      <td>...</td>\n      <td>8.200000</td>\n      <td>2.203</td>\n      <td>2.600</td>\n      <td>0.005</td>\n      <td>2.500</td>\n      <td>0.896321</td>\n      <td>0.766000</td>\n      <td>0.001737</td>\n      <td>1.820000</td>\n      <td>0.933419</td>\n    </tr>\n    <tr>\n      <th>2019-11-12 00:00:00.200</th>\n      <td>8721.53</td>\n      <td>8720.59</td>\n      <td>8719.61</td>\n      <td>8719.56</td>\n      <td>8719.0</td>\n      <td>8718.02</td>\n      <td>8717.87</td>\n      <td>8717.85</td>\n      <td>8716.06</td>\n      <td>8716.00</td>\n      <td>...</td>\n      <td>0.009135</td>\n      <td>8.200</td>\n      <td>2.203</td>\n      <td>2.600</td>\n      <td>0.005</td>\n      <td>2.500000</td>\n      <td>0.896321</td>\n      <td>0.766000</td>\n      <td>0.001737</td>\n      <td>1.820000</td>\n    </tr>\n    <tr>\n      <th>2019-11-12 00:00:00.300</th>\n      <td>8721.53</td>\n      <td>8720.59</td>\n      <td>8719.61</td>\n      <td>8719.56</td>\n      <td>8719.0</td>\n      <td>8718.02</td>\n      <td>8718.00</td>\n      <td>8717.87</td>\n      <td>8717.85</td>\n      <td>8716.60</td>\n      <td>...</td>\n      <td>0.009135</td>\n      <td>8.200</td>\n      <td>2.203</td>\n      <td>2.600</td>\n      <td>0.005</td>\n      <td>2.500000</td>\n      <td>0.896321</td>\n      <td>0.766000</td>\n      <td>0.001737</td>\n      <td>1.820000</td>\n    </tr>\n    <tr>\n      <th>2019-11-12 00:00:00.400</th>\n      <td>8721.53</td>\n      <td>8720.59</td>\n      <td>8719.61</td>\n      <td>8719.56</td>\n      <td>8719.0</td>\n      <td>8718.99</td>\n      <td>8718.02</td>\n      <td>8718.00</td>\n      <td>8717.87</td>\n      <td>8717.85</td>\n      <td>...</td>\n      <td>0.009135</td>\n      <td>8.200</td>\n      <td>2.203</td>\n      <td>2.600</td>\n      <td>0.005</td>\n      <td>2.500000</td>\n      <td>0.896321</td>\n      <td>0.766000</td>\n      <td>0.001737</td>\n      <td>1.820000</td>\n    </tr>\n  </tbody>\n</table>\n<p>5 rows × 200 columns</p>\n</div>"
     },
     "execution_count": 4,
     "metadata": {},
     "output_type": "execute_result"
    }
   ]
  },
  {
   "cell_type": "code",
   "metadata": {
    "id": "6t9oJl3QNn0E",
    "colab_type": "code",
    "outputId": "c272a18e-3f90-463e-ab0f-ed8462b79ed2",
    "colab": {
     "base_uri": "https://localhost:8080/",
     "height": 221
    },
    "ExecuteTime": {
     "end_time": "2025-03-04T00:17:39.272994Z",
     "start_time": "2025-03-04T00:17:39.262592Z"
    }
   },
   "source": [
    "l2_snapshot.isnull().sum()"
   ],
   "execution_count": 5,
   "outputs": [
    {
     "data": {
      "text/plain": "b1      7452\nb2      7452\nb3      7452\nb4      7452\nb5      7452\n        ... \naq46    7452\naq47    7452\naq48    7452\naq49    7452\naq50    7452\nLength: 200, dtype: int64"
     },
     "execution_count": 5,
     "metadata": {},
     "output_type": "execute_result"
    }
   ]
  },
  {
   "cell_type": "code",
   "metadata": {
    "id": "4ED9NkndJkCK",
    "colab_type": "code",
    "outputId": "d3fda4ce-a3d0-4be1-b543-7c2d9bd20923",
    "colab": {
     "base_uri": "https://localhost:8080/",
     "height": 34
    },
    "ExecuteTime": {
     "end_time": "2025-03-04T00:17:41.163148Z",
     "start_time": "2025-03-04T00:17:39.273694Z"
    }
   },
   "source": [
    "i = 0\n",
    "for x in os.listdir(path_):\n",
    "  #Remove the if part to load the full dataset\n",
    "  if i > 10:\n",
    "    break\n",
    "  else:\n",
    "    if i == 0:\n",
    "      l2_snapshot = pd.read_parquet('content/coinbase_btc_usd/coinbase/btc_usd/l2_snapshots/100ms/coinbase_btc_usd_l2_book_snapshots_depth50_2019_11_12_0000_0100.parquet')\n",
    "    else:\n",
    "      temp = pd.read_parquet(path_+x)\n",
    "      l2_snapshot_ = l2_snapshot.copy()\n",
    "      l2_snapshot = pd.concat([l2_snapshot_, temp])\n",
    "      del temp\n",
    "      del l2_snapshot_\n",
    "      gc.collect()\n",
    "    i = i+1\n",
    "print('Memory Usage: {} MB'.format(l2_snapshot.memory_usage().sum()/(1024**2)))"
   ],
   "execution_count": 6,
   "outputs": [
    {
     "name": "stdout",
     "output_type": "stream",
     "text": [
      "Memory Usage: 607.2156143188477 MB\n"
     ]
    }
   ]
  },
  {
   "cell_type": "code",
   "metadata": {
    "id": "5rzKlDvrzjyK",
    "colab_type": "code",
    "outputId": "2b62b7d3-31b1-48f8-82ae-ae16b146b241",
    "colab": {
     "base_uri": "https://localhost:8080/",
     "height": 51
    },
    "ExecuteTime": {
     "end_time": "2025-03-04T00:17:41.316726Z",
     "start_time": "2025-03-04T00:17:41.165372Z"
    }
   },
   "source": [
    "print('Before dropping null values: {}'.format(l2_snapshot.shape))\n",
    "l2_snapshot.dropna(inplace=True)\n",
    "print('After dropping null values: {}'.format(l2_snapshot.shape))"
   ],
   "execution_count": 7,
   "outputs": [
    {
     "name": "stdout",
     "output_type": "stream",
     "text": [
      "Before dropping null values: (395965, 200)\n",
      "After dropping null values: (253197, 200)\n"
     ]
    }
   ]
  },
  {
   "cell_type": "code",
   "metadata": {
    "id": "KdEO-8eBHM4z",
    "colab_type": "code",
    "colab": {},
    "ExecuteTime": {
     "end_time": "2025-03-04T00:17:41.322024Z",
     "start_time": "2025-03-04T00:17:41.317884Z"
    }
   },
   "source": [
    "# Function to generate the labels for learning according to the paper\n",
    "def generate_features_labels(df,ask, bid,k=20, alpha = 10e-5):\n",
    "  df_ = df.copy()\n",
    "  df_['mid_price'] = (df_[ask]+df_[bid])/2\n",
    "  df_['target'] = 1\n",
    "  index = df_.columns.get_loc('mid_price')\n",
    "  target_index = df_.columns.get_loc('target')\n",
    "  shape = df_.shape[0]\n",
    "  for i in tqdm(range(k,shape-k)):\n",
    "    m_b = np.mean(df_.iloc[(i-k):i, index].values)\n",
    "    m_a = np.mean(df_.iloc[i+1:(i+k+1), index].values)\n",
    "\n",
    "    if (m_b > m_a*(1+alpha)):\n",
    "      df_.iloc[i,target_index] = 2\n",
    "    if (m_b < m_a*(1-alpha)):\n",
    "      df_.iloc[i,target_index] = 0\n",
    "\n",
    "  y = df_.iloc[k:shape-k, target_index].values\n",
    "  X = df.iloc[k:shape-k,:].values\n",
    "  #Free up memory by deleting not required dataframes.\n",
    "  del df_\n",
    "  del df\n",
    "  gc.collect()\n",
    "  return X,y"
   ],
   "execution_count": 8,
   "outputs": []
  },
  {
   "cell_type": "code",
   "metadata": {
    "id": "fDbvInqagtRk",
    "colab_type": "code",
    "outputId": "1a02effd-40a8-4c3c-d417-b68f4d31fa15",
    "colab": {
     "base_uri": "https://localhost:8080/",
     "height": 34
    },
    "ExecuteTime": {
     "end_time": "2025-03-04T00:17:59.037200Z",
     "start_time": "2025-03-04T00:17:41.323062Z"
    }
   },
   "source": [
    "X,y = generate_features_labels(l2_snapshot, ask='a1', bid = 'b1')"
   ],
   "execution_count": 9,
   "outputs": [
    {
     "name": "stderr",
     "output_type": "stream",
     "text": [
      "100%|██████████| 253157/253157 [00:17<00:00, 14401.81it/s]\n"
     ]
    }
   ]
  },
  {
   "cell_type": "code",
   "metadata": {
    "id": "Uy_ivAgHDAqm",
    "colab_type": "code",
    "colab": {},
    "ExecuteTime": {
     "end_time": "2025-03-04T00:17:59.039781Z",
     "start_time": "2025-03-04T00:17:59.037946Z"
    }
   },
   "source": [
    "#Dimensions for the time series\n",
    "T = 100\n",
    "D = 200\n",
    "N = len(X) - T"
   ],
   "execution_count": 10,
   "outputs": []
  },
  {
   "cell_type": "code",
   "metadata": {
    "id": "Kx7z59QgDRgL",
    "colab_type": "code",
    "colab": {},
    "ExecuteTime": {
     "end_time": "2025-03-04T00:17:59.244122Z",
     "start_time": "2025-03-04T00:17:59.041209Z"
    }
   },
   "source": [
    "trainPart = int(len(X)*0.7)  #(70% Data for training and 30% for testing)\n",
    "\n",
    "#Normalising the whole dataset\n",
    "\n",
    "scaler = StandardScaler()\n",
    "scaler.fit(X[:trainPart + T - 1])\n",
    "X = scaler.transform(X)"
   ],
   "execution_count": 11,
   "outputs": []
  },
  {
   "cell_type": "code",
   "metadata": {
    "colab_type": "code",
    "id": "7D-o4gGFq5lD",
    "outputId": "c6097109-20be-4faf-8344-d2fdeb4acc1f",
    "colab": {
     "base_uri": "https://localhost:8080/",
     "height": 85
    },
    "ExecuteTime": {
     "end_time": "2025-03-04T00:21:08.236354Z",
     "start_time": "2025-03-04T00:18:43.468800Z"
    }
   },
   "source": [
    "#Create the template structure of training set\n",
    "X_train = np.zeros((trainPart, T, D))\n",
    "y_train = np.zeros(trainPart)\n",
    "\n",
    "#Preparing the time series data using timestep of 100 and no of features = 200\n",
    "for t in range(trainPart):\n",
    "  X_train[t, :, :] = X[t:t+T]\n",
    "  y_train[t] = y[t+T] \n",
    "\n",
    "# Reducing X_train datasize memory usage\n",
    "print('X_train - Before: {} GB'.format(X_train.nbytes/1024**3))\n",
    "X_train = X_train.astype('float16')\n",
    "print('X_train - After: {} GB'.format(X_train.nbytes/1024**3))\n",
    "\n",
    "# Reducing Y_train datasize memory usage\n",
    "print('y_train - before: {} MB'.format(y_train.nbytes/1024**2))\n",
    "y_train = y_train.astype('int')\n",
    "print('y_train - After: {} MB'.format(y_train.nbytes/1024**2))"
   ],
   "execution_count": 12,
   "outputs": [
    {
     "name": "stdout",
     "output_type": "stream",
     "text": [
      "X_train - Before: 26.406198740005493 GB\n",
      "X_train - After: 6.601549685001373 GB\n",
      "y_train - before: 1.3519973754882812 MB\n",
      "y_train - After: 1.3519973754882812 MB\n"
     ]
    }
   ]
  },
  {
   "cell_type": "code",
   "metadata": {
    "id": "Q6FRnVV6EG1R",
    "colab_type": "code",
    "outputId": "db4e6d68-dfa7-41ad-b3ae-ced935a2df0b",
    "colab": {
     "base_uri": "https://localhost:8080/",
     "height": 85
    },
    "ExecuteTime": {
     "end_time": "2025-03-04T00:21:56.033497Z",
     "start_time": "2025-03-04T00:21:08.253754Z"
    }
   },
   "source": [
    "#Create the template structure of test set\n",
    "X_test = np.zeros((N - trainPart, T, D))\n",
    "y_test = np.zeros(N - trainPart)\n",
    "\n",
    "#Preparing the time series data using timestep of 100 and no of features = 200\n",
    "for k in range(N - trainPart):\n",
    "  t = k + trainPart\n",
    "  X_test[k, :, :] = X[t:t+T]\n",
    "  y_test[k] = y[t+T]\n",
    "\n",
    "# Reducing X_test datasize memory usage\n",
    "print('X_test - Before {} GB'.format(X_test.nbytes/1024**3))\n",
    "X_test = X_test.astype('float16')\n",
    "print('X_test - After {} GB'.format(X_test.nbytes/1024**3))\n",
    "\n",
    "# Reducing Y_test datasize memory usage\n",
    "print('y_test - Before: {} MB'.format(y_test.nbytes/1024**2))\n",
    "y_test = y_test.astype('int')\n",
    "print('y_test - After: {} MB'.format(y_test.nbytes/1024**2))"
   ],
   "execution_count": 13,
   "outputs": [
    {
     "name": "stdout",
     "output_type": "stream",
     "text": [
      "X_test - Before 11.30223274230957 GB\n",
      "X_test - After 2.8255581855773926 GB\n",
      "y_test - Before: 0.57867431640625 MB\n",
      "y_test - After: 0.57867431640625 MB\n"
     ]
    }
   ]
  },
  {
   "cell_type": "code",
   "metadata": {
    "id": "8EEo4XmdFYRv",
    "colab_type": "code",
    "outputId": "0d6ef404-e1fb-4d05-d8db-86e34e9a4e63",
    "colab": {
     "base_uri": "https://localhost:8080/",
     "height": 119
    },
    "ExecuteTime": {
     "end_time": "2025-03-04T00:25:09.385969Z",
     "start_time": "2025-03-04T00:24:56.057465Z"
    }
   },
   "source": [
    "# Install TensorFlow\n",
    "# !pip install -q tensorflow-gpu==2.0.0-beta1\n",
    "\n",
    "# try:\n",
    "#   %tensorflow_version 2.x  # Colab only.\n",
    "# except Exception:\n",
    "#   pass\n",
    "\n",
    "import tensorflow as tf\n",
    "print(tf.__version__)"
   ],
   "execution_count": 14,
   "outputs": [
    {
     "name": "stdout",
     "output_type": "stream",
     "text": [
      "2.16.2\n"
     ]
    }
   ]
  },
  {
   "cell_type": "code",
   "outputs": [
    {
     "name": "stdout",
     "output_type": "stream",
     "text": [
      "GPU memory growth enabled\n"
     ]
    }
   ],
   "source": [
    "gpus = tf.config.experimental.list_physical_devices('GPU')\n",
    "if gpus:\n",
    "    try:\n",
    "        for gpu in gpus:\n",
    "            tf.config.experimental.set_memory_growth(gpu, True)\n",
    "        print(\"GPU memory growth enabled\")\n",
    "    except RuntimeError as e:\n",
    "        print(e)"
   ],
   "metadata": {
    "collapsed": false,
    "ExecuteTime": {
     "end_time": "2025-03-04T00:25:13.272369Z",
     "start_time": "2025-03-04T00:25:13.268193Z"
    }
   },
   "execution_count": 15
  },
  {
   "cell_type": "code",
   "metadata": {
    "id": "AisEvFPTjuZ0",
    "colab_type": "code",
    "colab": {},
    "ExecuteTime": {
     "end_time": "2025-03-04T00:25:16.910037Z",
     "start_time": "2025-03-04T00:25:16.897863Z"
    }
   },
   "source": [
    "from tensorflow.keras.layers import Input, Conv1D, Conv2D, Flatten, MaxPooling1D, MaxPooling2D, Dense, LeakyReLU\n",
    "from tensorflow.keras.models import Model\n",
    "from tensorflow.keras.optimizers import SGD, Adam"
   ],
   "execution_count": 16,
   "outputs": []
  },
  {
   "cell_type": "code",
   "metadata": {
    "id": "FjeF7paIHkLt",
    "colab_type": "code",
    "colab": {},
    "ExecuteTime": {
     "end_time": "2025-03-04T00:25:20.211067Z",
     "start_time": "2025-03-04T00:25:20.205967Z"
    }
   },
   "source": [
    "#Converting X_train and X_test for 2D Convolution\n",
    "X_train = np.expand_dims(X_train, -1)\n",
    "X_test = np.expand_dims(X_test, -1)"
   ],
   "execution_count": 17,
   "outputs": []
  },
  {
   "cell_type": "code",
   "metadata": {
    "id": "vkZo5eXYmkDd",
    "colab_type": "code",
    "outputId": "9562e695-f4f7-4dfe-8a8c-713ab3b5c40e",
    "colab": {
     "base_uri": "https://localhost:8080/",
     "height": 68
    },
    "ExecuteTime": {
     "end_time": "2025-03-04T00:27:38.233793Z",
     "start_time": "2025-03-04T00:27:38.127487Z"
    }
   },
   "source": [
    "#Model architecture is as from the report\n",
    "#T = 100 from the above step for timesteps and D = 200 (no. of features) \n",
    "i = Input(shape=X_train[0].shape)\n",
    "print(i)\n",
    "x = Conv2D(16, (4,D), activation=LeakyReLU(negative_slope=0.01))(i)\n",
    "print(x.shape)\n",
    "x = tf.keras.layers.Reshape(target_shape=(T-3,16))(x)\n",
    "print(x.shape)\n",
    "x = Conv1D(16, 4, activation=LeakyReLU(negative_slope=0.01))(x)\n",
    "x = MaxPooling1D(2)(x)\n",
    "x = Conv1D(32, 3, activation=LeakyReLU(negative_slope=0.01))(x)\n",
    "x = Conv1D(32, 3, activation=LeakyReLU(negative_slope=0.01))(x)\n",
    "x = MaxPooling1D(2)(x)\n",
    "x = Flatten()(x)\n",
    "x = Dense(32, activation=LeakyReLU(negative_slope=0.01))(x)\n",
    "x = Dense(3, activation='softmax')(x)\n",
    "\n",
    "model = Model(i,x)"
   ],
   "execution_count": 20,
   "outputs": [
    {
     "name": "stdout",
     "output_type": "stream",
     "text": [
      "<KerasTensor shape=(None, 100, 200, 1), dtype=float32, sparse=False, name=keras_tensor>\n",
      "(None, 97, 1, 16)\n",
      "(None, 97, 16)\n"
     ]
    }
   ]
  },
  {
   "cell_type": "code",
   "metadata": {
    "id": "_iWtFhsNFUqr",
    "colab_type": "code",
    "outputId": "9c03a540-431e-474d-e689-b3e6673441b3",
    "colab": {
     "base_uri": "https://localhost:8080/",
     "height": 527
    },
    "ExecuteTime": {
     "end_time": "2025-03-04T00:27:41.959540Z",
     "start_time": "2025-03-04T00:27:41.944291Z"
    }
   },
   "source": [
    "#Printing Model Summary\n",
    "model.summary()"
   ],
   "execution_count": 21,
   "outputs": [
    {
     "data": {
      "text/plain": "\u001B[1mModel: \"functional\"\u001B[0m\n",
      "text/html": "<pre style=\"white-space:pre;overflow-x:auto;line-height:normal;font-family:Menlo,'DejaVu Sans Mono',consolas,'Courier New',monospace\"><span style=\"font-weight: bold\">Model: \"functional\"</span>\n</pre>\n"
     },
     "metadata": {},
     "output_type": "display_data"
    },
    {
     "data": {
      "text/plain": "┏━━━━━━━━━━━━━━━━━━━━━━━━━━━━━━━━━┳━━━━━━━━━━━━━━━━━━━━━━━━┳━━━━━━━━━━━━━━━┓\n┃\u001B[1m \u001B[0m\u001B[1mLayer (type)                   \u001B[0m\u001B[1m \u001B[0m┃\u001B[1m \u001B[0m\u001B[1mOutput Shape          \u001B[0m\u001B[1m \u001B[0m┃\u001B[1m \u001B[0m\u001B[1m      Param #\u001B[0m\u001B[1m \u001B[0m┃\n┡━━━━━━━━━━━━━━━━━━━━━━━━━━━━━━━━━╇━━━━━━━━━━━━━━━━━━━━━━━━╇━━━━━━━━━━━━━━━┩\n│ input_layer (\u001B[38;5;33mInputLayer\u001B[0m)        │ (\u001B[38;5;45mNone\u001B[0m, \u001B[38;5;34m100\u001B[0m, \u001B[38;5;34m200\u001B[0m, \u001B[38;5;34m1\u001B[0m)    │             \u001B[38;5;34m0\u001B[0m │\n├─────────────────────────────────┼────────────────────────┼───────────────┤\n│ conv2d (\u001B[38;5;33mConv2D\u001B[0m)                 │ (\u001B[38;5;45mNone\u001B[0m, \u001B[38;5;34m97\u001B[0m, \u001B[38;5;34m1\u001B[0m, \u001B[38;5;34m16\u001B[0m)      │        \u001B[38;5;34m12,816\u001B[0m │\n├─────────────────────────────────┼────────────────────────┼───────────────┤\n│ reshape (\u001B[38;5;33mReshape\u001B[0m)               │ (\u001B[38;5;45mNone\u001B[0m, \u001B[38;5;34m97\u001B[0m, \u001B[38;5;34m16\u001B[0m)         │             \u001B[38;5;34m0\u001B[0m │\n├─────────────────────────────────┼────────────────────────┼───────────────┤\n│ conv1d (\u001B[38;5;33mConv1D\u001B[0m)                 │ (\u001B[38;5;45mNone\u001B[0m, \u001B[38;5;34m94\u001B[0m, \u001B[38;5;34m16\u001B[0m)         │         \u001B[38;5;34m1,040\u001B[0m │\n├─────────────────────────────────┼────────────────────────┼───────────────┤\n│ max_pooling1d (\u001B[38;5;33mMaxPooling1D\u001B[0m)    │ (\u001B[38;5;45mNone\u001B[0m, \u001B[38;5;34m47\u001B[0m, \u001B[38;5;34m16\u001B[0m)         │             \u001B[38;5;34m0\u001B[0m │\n├─────────────────────────────────┼────────────────────────┼───────────────┤\n│ conv1d_1 (\u001B[38;5;33mConv1D\u001B[0m)               │ (\u001B[38;5;45mNone\u001B[0m, \u001B[38;5;34m45\u001B[0m, \u001B[38;5;34m32\u001B[0m)         │         \u001B[38;5;34m1,568\u001B[0m │\n├─────────────────────────────────┼────────────────────────┼───────────────┤\n│ conv1d_2 (\u001B[38;5;33mConv1D\u001B[0m)               │ (\u001B[38;5;45mNone\u001B[0m, \u001B[38;5;34m43\u001B[0m, \u001B[38;5;34m32\u001B[0m)         │         \u001B[38;5;34m3,104\u001B[0m │\n├─────────────────────────────────┼────────────────────────┼───────────────┤\n│ max_pooling1d_1 (\u001B[38;5;33mMaxPooling1D\u001B[0m)  │ (\u001B[38;5;45mNone\u001B[0m, \u001B[38;5;34m21\u001B[0m, \u001B[38;5;34m32\u001B[0m)         │             \u001B[38;5;34m0\u001B[0m │\n├─────────────────────────────────┼────────────────────────┼───────────────┤\n│ flatten (\u001B[38;5;33mFlatten\u001B[0m)               │ (\u001B[38;5;45mNone\u001B[0m, \u001B[38;5;34m672\u001B[0m)            │             \u001B[38;5;34m0\u001B[0m │\n├─────────────────────────────────┼────────────────────────┼───────────────┤\n│ dense (\u001B[38;5;33mDense\u001B[0m)                   │ (\u001B[38;5;45mNone\u001B[0m, \u001B[38;5;34m32\u001B[0m)             │        \u001B[38;5;34m21,536\u001B[0m │\n├─────────────────────────────────┼────────────────────────┼───────────────┤\n│ dense_1 (\u001B[38;5;33mDense\u001B[0m)                 │ (\u001B[38;5;45mNone\u001B[0m, \u001B[38;5;34m3\u001B[0m)              │            \u001B[38;5;34m99\u001B[0m │\n└─────────────────────────────────┴────────────────────────┴───────────────┘\n",
      "text/html": "<pre style=\"white-space:pre;overflow-x:auto;line-height:normal;font-family:Menlo,'DejaVu Sans Mono',consolas,'Courier New',monospace\">┏━━━━━━━━━━━━━━━━━━━━━━━━━━━━━━━━━┳━━━━━━━━━━━━━━━━━━━━━━━━┳━━━━━━━━━━━━━━━┓\n┃<span style=\"font-weight: bold\"> Layer (type)                    </span>┃<span style=\"font-weight: bold\"> Output Shape           </span>┃<span style=\"font-weight: bold\">       Param # </span>┃\n┡━━━━━━━━━━━━━━━━━━━━━━━━━━━━━━━━━╇━━━━━━━━━━━━━━━━━━━━━━━━╇━━━━━━━━━━━━━━━┩\n│ input_layer (<span style=\"color: #0087ff; text-decoration-color: #0087ff\">InputLayer</span>)        │ (<span style=\"color: #00d7ff; text-decoration-color: #00d7ff\">None</span>, <span style=\"color: #00af00; text-decoration-color: #00af00\">100</span>, <span style=\"color: #00af00; text-decoration-color: #00af00\">200</span>, <span style=\"color: #00af00; text-decoration-color: #00af00\">1</span>)    │             <span style=\"color: #00af00; text-decoration-color: #00af00\">0</span> │\n├─────────────────────────────────┼────────────────────────┼───────────────┤\n│ conv2d (<span style=\"color: #0087ff; text-decoration-color: #0087ff\">Conv2D</span>)                 │ (<span style=\"color: #00d7ff; text-decoration-color: #00d7ff\">None</span>, <span style=\"color: #00af00; text-decoration-color: #00af00\">97</span>, <span style=\"color: #00af00; text-decoration-color: #00af00\">1</span>, <span style=\"color: #00af00; text-decoration-color: #00af00\">16</span>)      │        <span style=\"color: #00af00; text-decoration-color: #00af00\">12,816</span> │\n├─────────────────────────────────┼────────────────────────┼───────────────┤\n│ reshape (<span style=\"color: #0087ff; text-decoration-color: #0087ff\">Reshape</span>)               │ (<span style=\"color: #00d7ff; text-decoration-color: #00d7ff\">None</span>, <span style=\"color: #00af00; text-decoration-color: #00af00\">97</span>, <span style=\"color: #00af00; text-decoration-color: #00af00\">16</span>)         │             <span style=\"color: #00af00; text-decoration-color: #00af00\">0</span> │\n├─────────────────────────────────┼────────────────────────┼───────────────┤\n│ conv1d (<span style=\"color: #0087ff; text-decoration-color: #0087ff\">Conv1D</span>)                 │ (<span style=\"color: #00d7ff; text-decoration-color: #00d7ff\">None</span>, <span style=\"color: #00af00; text-decoration-color: #00af00\">94</span>, <span style=\"color: #00af00; text-decoration-color: #00af00\">16</span>)         │         <span style=\"color: #00af00; text-decoration-color: #00af00\">1,040</span> │\n├─────────────────────────────────┼────────────────────────┼───────────────┤\n│ max_pooling1d (<span style=\"color: #0087ff; text-decoration-color: #0087ff\">MaxPooling1D</span>)    │ (<span style=\"color: #00d7ff; text-decoration-color: #00d7ff\">None</span>, <span style=\"color: #00af00; text-decoration-color: #00af00\">47</span>, <span style=\"color: #00af00; text-decoration-color: #00af00\">16</span>)         │             <span style=\"color: #00af00; text-decoration-color: #00af00\">0</span> │\n├─────────────────────────────────┼────────────────────────┼───────────────┤\n│ conv1d_1 (<span style=\"color: #0087ff; text-decoration-color: #0087ff\">Conv1D</span>)               │ (<span style=\"color: #00d7ff; text-decoration-color: #00d7ff\">None</span>, <span style=\"color: #00af00; text-decoration-color: #00af00\">45</span>, <span style=\"color: #00af00; text-decoration-color: #00af00\">32</span>)         │         <span style=\"color: #00af00; text-decoration-color: #00af00\">1,568</span> │\n├─────────────────────────────────┼────────────────────────┼───────────────┤\n│ conv1d_2 (<span style=\"color: #0087ff; text-decoration-color: #0087ff\">Conv1D</span>)               │ (<span style=\"color: #00d7ff; text-decoration-color: #00d7ff\">None</span>, <span style=\"color: #00af00; text-decoration-color: #00af00\">43</span>, <span style=\"color: #00af00; text-decoration-color: #00af00\">32</span>)         │         <span style=\"color: #00af00; text-decoration-color: #00af00\">3,104</span> │\n├─────────────────────────────────┼────────────────────────┼───────────────┤\n│ max_pooling1d_1 (<span style=\"color: #0087ff; text-decoration-color: #0087ff\">MaxPooling1D</span>)  │ (<span style=\"color: #00d7ff; text-decoration-color: #00d7ff\">None</span>, <span style=\"color: #00af00; text-decoration-color: #00af00\">21</span>, <span style=\"color: #00af00; text-decoration-color: #00af00\">32</span>)         │             <span style=\"color: #00af00; text-decoration-color: #00af00\">0</span> │\n├─────────────────────────────────┼────────────────────────┼───────────────┤\n│ flatten (<span style=\"color: #0087ff; text-decoration-color: #0087ff\">Flatten</span>)               │ (<span style=\"color: #00d7ff; text-decoration-color: #00d7ff\">None</span>, <span style=\"color: #00af00; text-decoration-color: #00af00\">672</span>)            │             <span style=\"color: #00af00; text-decoration-color: #00af00\">0</span> │\n├─────────────────────────────────┼────────────────────────┼───────────────┤\n│ dense (<span style=\"color: #0087ff; text-decoration-color: #0087ff\">Dense</span>)                   │ (<span style=\"color: #00d7ff; text-decoration-color: #00d7ff\">None</span>, <span style=\"color: #00af00; text-decoration-color: #00af00\">32</span>)             │        <span style=\"color: #00af00; text-decoration-color: #00af00\">21,536</span> │\n├─────────────────────────────────┼────────────────────────┼───────────────┤\n│ dense_1 (<span style=\"color: #0087ff; text-decoration-color: #0087ff\">Dense</span>)                 │ (<span style=\"color: #00d7ff; text-decoration-color: #00d7ff\">None</span>, <span style=\"color: #00af00; text-decoration-color: #00af00\">3</span>)              │            <span style=\"color: #00af00; text-decoration-color: #00af00\">99</span> │\n└─────────────────────────────────┴────────────────────────┴───────────────┘\n</pre>\n"
     },
     "metadata": {},
     "output_type": "display_data"
    },
    {
     "data": {
      "text/plain": "\u001B[1m Total params: \u001B[0m\u001B[38;5;34m40,163\u001B[0m (156.89 KB)\n",
      "text/html": "<pre style=\"white-space:pre;overflow-x:auto;line-height:normal;font-family:Menlo,'DejaVu Sans Mono',consolas,'Courier New',monospace\"><span style=\"font-weight: bold\"> Total params: </span><span style=\"color: #00af00; text-decoration-color: #00af00\">40,163</span> (156.89 KB)\n</pre>\n"
     },
     "metadata": {},
     "output_type": "display_data"
    },
    {
     "data": {
      "text/plain": "\u001B[1m Trainable params: \u001B[0m\u001B[38;5;34m40,163\u001B[0m (156.89 KB)\n",
      "text/html": "<pre style=\"white-space:pre;overflow-x:auto;line-height:normal;font-family:Menlo,'DejaVu Sans Mono',consolas,'Courier New',monospace\"><span style=\"font-weight: bold\"> Trainable params: </span><span style=\"color: #00af00; text-decoration-color: #00af00\">40,163</span> (156.89 KB)\n</pre>\n"
     },
     "metadata": {},
     "output_type": "display_data"
    },
    {
     "data": {
      "text/plain": "\u001B[1m Non-trainable params: \u001B[0m\u001B[38;5;34m0\u001B[0m (0.00 B)\n",
      "text/html": "<pre style=\"white-space:pre;overflow-x:auto;line-height:normal;font-family:Menlo,'DejaVu Sans Mono',consolas,'Courier New',monospace\"><span style=\"font-weight: bold\"> Non-trainable params: </span><span style=\"color: #00af00; text-decoration-color: #00af00\">0</span> (0.00 B)\n</pre>\n"
     },
     "metadata": {},
     "output_type": "display_data"
    }
   ]
  },
  {
   "cell_type": "code",
   "metadata": {
    "id": "zxcsMebPpWS-",
    "colab_type": "code",
    "colab": {},
    "ExecuteTime": {
     "end_time": "2025-03-04T00:27:47.076454Z",
     "start_time": "2025-03-04T00:27:47.046476Z"
    }
   },
   "source": [
    "model.compile(optimizer='adam',\n",
    "              loss='sparse_categorical_crossentropy',\n",
    "              metrics=['accuracy'])\n",
    "#Accuracy is not a great metrics"
   ],
   "execution_count": 22,
   "outputs": []
  },
  {
   "cell_type": "code",
   "metadata": {
    "id": "QwRmHml2n42P",
    "colab_type": "code",
    "colab": {},
    "ExecuteTime": {
     "end_time": "2025-03-04T00:27:49.977026Z",
     "start_time": "2025-03-04T00:27:49.973642Z"
    }
   },
   "source": [
    "from sklearn.utils.class_weight import compute_class_weight\n",
    "def compute_class_weights(y):\n",
    "    classes = np.unique(y)\n",
    "    class_weight = compute_class_weight(class_weight=\"balanced\", classes=classes, y=y)\n",
    "    class_weights = dict(zip(classes, class_weight))\n",
    "    return class_weights"
   ],
   "execution_count": 24,
   "outputs": []
  },
  {
   "cell_type": "code",
   "metadata": {
    "id": "HJMve9aBhUIw",
    "colab_type": "code",
    "colab": {},
    "ExecuteTime": {
     "end_time": "2025-03-04T00:27:50.302594Z",
     "start_time": "2025-03-04T00:27:50.282917Z"
    }
   },
   "source": [
    "#computing class weights according to the percentage in training dataset\n",
    "class_weights = compute_class_weights(y_train)"
   ],
   "execution_count": 25,
   "outputs": []
  },
  {
   "cell_type": "code",
   "outputs": [],
   "source": [
    "# with tf.device('/GPU:0'):\n",
    "#     X_train = tf.convert_to_tensor(X_train)\n",
    "#     y_train = tf.convert_to_tensor(y_train)\n",
    "#     X_test = tf.convert_to_tensor(X_test)\n",
    "#     y_test = tf.convert_to_tensor(y_test)"
   ],
   "metadata": {
    "collapsed": false,
    "is_executing": true,
    "ExecuteTime": {
     "start_time": "2025-03-03T23:57:49.490354Z"
    }
   }
  },
  {
   "cell_type": "code",
   "outputs": [
    {
     "data": {
      "text/plain": "[PhysicalDevice(name='/physical_device:GPU:0', device_type='GPU')]"
     },
     "execution_count": 27,
     "metadata": {},
     "output_type": "execute_result"
    }
   ],
   "source": [
    "tf.config.experimental.list_physical_devices('GPU')"
   ],
   "metadata": {
    "collapsed": false,
    "ExecuteTime": {
     "end_time": "2025-03-04T00:31:25.929657Z",
     "start_time": "2025-03-04T00:31:25.909191Z"
    }
   },
   "execution_count": 27
  },
  {
   "cell_type": "code",
   "metadata": {
    "id": "jwab07y6Frhn",
    "colab_type": "code",
    "outputId": "e9820a80-f12f-4f41-838c-3ce5317815af",
    "colab": {
     "base_uri": "https://localhost:8080/",
     "height": 1000
    },
    "is_executing": true,
    "ExecuteTime": {
     "start_time": "2025-03-04T00:31:52.584461Z"
    }
   },
   "source": [
    "EPOCHS = 50\n",
    "BATCH_SIZE = 16\n",
    "r = model.fit(\n",
    "  X_train, y_train,\n",
    "  batch_size=BATCH_SIZE,\n",
    "  epochs=EPOCHS,\n",
    "  validation_data=(X_test, y_test),\n",
    "  class_weight = class_weights\n",
    ")"
   ],
   "execution_count": null,
   "outputs": []
  },
  {
   "cell_type": "code",
   "metadata": {
    "id": "lcf2wsdzSSoI",
    "colab_type": "code",
    "outputId": "5de03cb0-afc1-4530-9ff6-78494360ac27",
    "colab": {
     "base_uri": "https://localhost:8080/",
     "height": 312
    }
   },
   "source": [
    "sns.lineplot(x=range(1,EPOCHS+1),y=r.history['loss'])\n",
    "sns.lineplot(x=range(1,EPOCHS+1),y=r.history['val_loss'])\n",
    "plt.title('Model Cross Entropy Loss')\n",
    "plt.ylabel('Cross Entropy Loss')\n",
    "plt.xlabel('Epochs')\n",
    "plt.legend(['Training', 'Testing'], loc='upper left')"
   ],
   "execution_count": 0,
   "outputs": [
    {
     "output_type": "execute_result",
     "data": {
      "text/plain": [
       "<matplotlib.legend.Legend at 0x7f7fa457d6a0>"
      ]
     },
     "metadata": {
      "tags": []
     },
     "execution_count": 27
    },
    {
     "output_type": "display_data",
     "data": {
      "image/png": "[encoded data removed]",
      "text/plain": [
       "<Figure size 432x288 with 1 Axes>"
      ]
     },
     "metadata": {
      "tags": []
     }
    }
   ]
  },
  {
   "cell_type": "code",
   "metadata": {
    "id": "AyMpH7DVlc8m",
    "colab_type": "code",
    "colab": {}
   },
   "source": [
    "# Model is clearly overfitting as the training loss is decreasing but the testing loss is just increasing. The confusion matrix below gives better information"
   ],
   "execution_count": 0,
   "outputs": []
  },
  {
   "cell_type": "code",
   "metadata": {
    "id": "qyGI6Al2n30C",
    "colab_type": "code",
    "colab": {}
   },
   "source": [
    "y_pred = model.predict(X_test).argmax(axis=1)"
   ],
   "execution_count": 0,
   "outputs": []
  },
  {
   "cell_type": "code",
   "metadata": {
    "id": "vJugwyIJI_DC",
    "colab_type": "code",
    "outputId": "2f7b9a39-bbe7-4405-8079-9d9d673e416c",
    "colab": {
     "base_uri": "https://localhost:8080/",
     "height": 136
    }
   },
   "source": [
    " model.predict(X_test)"
   ],
   "execution_count": 0,
   "outputs": [
    {
     "output_type": "execute_result",
     "data": {
      "text/plain": [
       "array([[9.9944943e-01, 5.5062218e-04, 5.9082446e-26],\n",
       "       [9.5253259e-01, 4.7467332e-02, 1.0671785e-19],\n",
       "       [9.6852845e-01, 3.1471580e-02, 6.8123664e-17],\n",
       "       ...,\n",
       "       [7.4375956e-03, 9.9205458e-01, 5.0786865e-04],\n",
       "       [1.0000000e+00, 4.6534499e-08, 0.0000000e+00],\n",
       "       [5.2140851e-02, 9.4785911e-01, 2.2283022e-12]], dtype=float32)"
      ]
     },
     "metadata": {
      "tags": []
     },
     "execution_count": 29
    }
   ]
  },
  {
   "cell_type": "code",
   "metadata": {
    "id": "WMhHGaX6i-oG",
    "colab_type": "code",
    "outputId": "8425b258-8929-432d-b89c-ab836e717e06",
    "colab": {
     "base_uri": "https://localhost:8080/",
     "height": 265
    }
   },
   "source": [
    "# Plot confusion matrix\n",
    "from sklearn.metrics import confusion_matrix\n",
    "\n",
    "cm = confusion_matrix(y_pred=y_pred, y_true=y_test)\n",
    "    \n",
    "cm = cm.astype('float') / cm.sum(axis=1)[:, np.newaxis]\n",
    "    \n",
    "ax=sns.heatmap(cm, annot=True, xticklabels=[0,1,2], yticklabels=[0,1,2], cmap='Blues')\n",
    "ax.set_ylim(3.0, 0)\n",
    "plt.show()"
   ],
   "execution_count": 0,
   "outputs": [
    {
     "output_type": "display_data",
     "data": {
      "image/png": "[encoded data removed]",
      "text/plain": [
       "<Figure size 432x288 with 2 Axes>"
      ]
     },
     "metadata": {
      "tags": []
     }
    }
   ]
  },
  {
   "cell_type": "code",
   "metadata": {
    "id": "v_tLLfJA6IT0",
    "colab_type": "code",
    "outputId": "e92c4aa1-8ad8-4bc9-f0e7-746c9962e6ed",
    "colab": {
     "base_uri": "https://localhost:8080/",
     "height": 187
    }
   },
   "source": [
    "#Print the classification report\n",
    "print(classification_report(y_true= y_test, y_pred = y_pred))"
   ],
   "execution_count": 0,
   "outputs": [
    {
     "output_type": "stream",
     "text": [
      "              precision    recall  f1-score   support\n",
      "\n",
      "           0       0.08      0.11      0.09      1865\n",
      "           1       0.94      0.88      0.91     60324\n",
      "           2       0.08      0.21      0.12      2096\n",
      "\n",
      "    accuracy                           0.84     64285\n",
      "   macro avg       0.37      0.40      0.37     64285\n",
      "weighted avg       0.89      0.84      0.86     64285\n"
     ],
     "name": "stdout"
    }
   ]
  },
  {
   "cell_type": "code",
   "metadata": {
    "id": "4Hi_ropAlB3U",
    "colab_type": "code",
    "colab": {}
   },
   "source": [],
   "execution_count": 0,
   "outputs": []
  }
 ]
}
